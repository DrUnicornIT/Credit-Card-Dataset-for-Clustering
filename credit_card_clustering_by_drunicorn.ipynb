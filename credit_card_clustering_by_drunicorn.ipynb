{
  "metadata": {
    "kernelspec": {
      "language": "python",
      "display_name": "Python 3",
      "name": "python3"
    },
    "language_info": {
      "name": "python",
      "version": "3.7.12",
      "mimetype": "text/x-python",
      "codemirror_mode": {
        "name": "ipython",
        "version": 3
      },
      "pygments_lexer": "ipython3",
      "nbconvert_exporter": "python",
      "file_extension": ".py"
    },
    "colab": {
      "provenance": []
    }
  },
  "nbformat_minor": 0,
  "nbformat": 4,
  "cells": [
    {
      "cell_type": "markdown",
      "source": [
        "# Data Analysis with Python - Credit Card Dataset for Clustering\n",
        "Important links: \n",
        "+ Gihub\n",
        "+ Colab Google\n",
        "\n",
        "## Evalution Criteria\n",
        "Submission will be evaluated using the follow criteria: \n",
        "+ Nothing\n",
        "\n",
        "# This Python3 environment comes with many helpful analytics libraries installed\n",
        "\n"
      ],
      "metadata": {
        "id": "HgHQPJCXQBCl"
      }
    },
    {
      "cell_type": "markdown",
      "source": [
        "## Part 1: Data preprocessing\n",
        "Dataset link: https://www.kaggle.com/datasets/arjunbhasin2013/ccdata"
      ],
      "metadata": {
        "id": "pA46lipe1qrc"
      }
    },
    {
      "cell_type": "markdown",
      "source": [
        "## Importing the libraries and the dataset\n"
      ],
      "metadata": {
        "id": "Zb1KIqJZ7poa"
      }
    },
    {
      "cell_type": "code",
      "source": [
        "import numpy as np\n",
        "import pandas as pd\n",
        "import matplotlib.pyplot as plt\n",
        "from matplotlib import pyplot\n",
        "import seaborn as sns\n",
        "import warnings\n",
        "warnings.filterwarnings('ignore')"
      ],
      "metadata": {
        "id": "eaufaA6_3uol",
        "execution": {
          "iopub.status.busy": "2022-09-13T09:38:27.296063Z",
          "iopub.execute_input": "2022-09-13T09:38:27.296476Z",
          "iopub.status.idle": "2022-09-13T09:38:27.302522Z",
          "shell.execute_reply.started": "2022-09-13T09:38:27.296443Z",
          "shell.execute_reply": "2022-09-13T09:38:27.301680Z"
        },
        "trusted": true
      },
      "execution_count": 50,
      "outputs": []
    },
    {
      "cell_type": "code",
      "source": [
        "import os \n",
        "for dirname, _, filenames in os.walk('/content'): \n",
        "  for filename in filenames: \n",
        "    print(os.path.join(dirname, filename))\n"
      ],
      "metadata": {
        "id": "4sNTmOiN3urC",
        "outputId": "3513db2c-6bb5-4393-98e0-98c56720c6cd",
        "execution": {
          "iopub.status.busy": "2022-09-13T09:38:27.311672Z",
          "iopub.execute_input": "2022-09-13T09:38:27.312348Z",
          "iopub.status.idle": "2022-09-13T09:38:27.317657Z",
          "shell.execute_reply.started": "2022-09-13T09:38:27.312308Z",
          "shell.execute_reply": "2022-09-13T09:38:27.316771Z"
        },
        "trusted": true,
        "colab": {
          "base_uri": "https://localhost:8080/"
        }
      },
      "execution_count": 51,
      "outputs": [
        {
          "output_type": "stream",
          "name": "stdout",
          "text": [
            "/content/CC GENERAL.csv\n",
            "/content/.config/config_sentinel\n",
            "/content/.config/.last_update_check.json\n",
            "/content/.config/.last_opt_in_prompt.yaml\n",
            "/content/.config/active_config\n",
            "/content/.config/gce\n",
            "/content/.config/.last_survey_prompt.yaml\n",
            "/content/.config/configurations/config_default\n",
            "/content/.config/logs/2022.09.09/13.22.21.505460.log\n",
            "/content/.config/logs/2022.09.09/13.21.10.547632.log\n",
            "/content/.config/logs/2022.09.09/13.21.52.077555.log\n",
            "/content/.config/logs/2022.09.09/13.22.20.752199.log\n",
            "/content/.config/logs/2022.09.09/13.21.32.402746.log\n",
            "/content/.config/logs/2022.09.09/13.22.00.334156.log\n",
            "/content/sample_data/anscombe.json\n",
            "/content/sample_data/README.md\n",
            "/content/sample_data/mnist_train_small.csv\n",
            "/content/sample_data/california_housing_test.csv\n",
            "/content/sample_data/mnist_test.csv\n",
            "/content/sample_data/california_housing_train.csv\n"
          ]
        }
      ]
    },
    {
      "cell_type": "code",
      "source": [
        "dataset = pd.read_csv('/content/CC GENERAL.csv')\n"
      ],
      "metadata": {
        "id": "26ANfT4nWHQB",
        "execution": {
          "iopub.status.busy": "2022-09-13T09:38:27.319367Z",
          "iopub.execute_input": "2022-09-13T09:38:27.319960Z",
          "iopub.status.idle": "2022-09-13T09:38:27.360123Z",
          "shell.execute_reply.started": "2022-09-13T09:38:27.319908Z",
          "shell.execute_reply": "2022-09-13T09:38:27.359025Z"
        },
        "trusted": true
      },
      "execution_count": 52,
      "outputs": []
    },
    {
      "cell_type": "code",
      "source": [
        "dataset.head()"
      ],
      "metadata": {
        "id": "mpncnR-o3uto",
        "outputId": "afe14e63-02c0-49e2-a11c-08221aa4171d",
        "execution": {
          "iopub.status.busy": "2022-09-13T09:38:27.539889Z",
          "iopub.execute_input": "2022-09-13T09:38:27.540317Z",
          "iopub.status.idle": "2022-09-13T09:38:27.565323Z",
          "shell.execute_reply.started": "2022-09-13T09:38:27.540281Z",
          "shell.execute_reply": "2022-09-13T09:38:27.564233Z"
        },
        "trusted": true,
        "colab": {
          "base_uri": "https://localhost:8080/",
          "height": 268
        }
      },
      "execution_count": 53,
      "outputs": [
        {
          "output_type": "execute_result",
          "data": {
            "text/plain": [
              "  CUST_ID      BALANCE  BALANCE_FREQUENCY  PURCHASES  ONEOFF_PURCHASES  \\\n",
              "0  C10001    40.900749           0.818182      95.40              0.00   \n",
              "1  C10002  3202.467416           0.909091       0.00              0.00   \n",
              "2  C10003  2495.148862           1.000000     773.17            773.17   \n",
              "3  C10004  1666.670542           0.636364    1499.00           1499.00   \n",
              "4  C10005   817.714335           1.000000      16.00             16.00   \n",
              "\n",
              "   INSTALLMENTS_PURCHASES  CASH_ADVANCE  PURCHASES_FREQUENCY  \\\n",
              "0                    95.4      0.000000             0.166667   \n",
              "1                     0.0   6442.945483             0.000000   \n",
              "2                     0.0      0.000000             1.000000   \n",
              "3                     0.0    205.788017             0.083333   \n",
              "4                     0.0      0.000000             0.083333   \n",
              "\n",
              "   ONEOFF_PURCHASES_FREQUENCY  PURCHASES_INSTALLMENTS_FREQUENCY  \\\n",
              "0                    0.000000                          0.083333   \n",
              "1                    0.000000                          0.000000   \n",
              "2                    1.000000                          0.000000   \n",
              "3                    0.083333                          0.000000   \n",
              "4                    0.083333                          0.000000   \n",
              "\n",
              "   CASH_ADVANCE_FREQUENCY  CASH_ADVANCE_TRX  PURCHASES_TRX  CREDIT_LIMIT  \\\n",
              "0                0.000000                 0              2        1000.0   \n",
              "1                0.250000                 4              0        7000.0   \n",
              "2                0.000000                 0             12        7500.0   \n",
              "3                0.083333                 1              1        7500.0   \n",
              "4                0.000000                 0              1        1200.0   \n",
              "\n",
              "      PAYMENTS  MINIMUM_PAYMENTS  PRC_FULL_PAYMENT  TENURE  \n",
              "0   201.802084        139.509787          0.000000      12  \n",
              "1  4103.032597       1072.340217          0.222222      12  \n",
              "2   622.066742        627.284787          0.000000      12  \n",
              "3     0.000000               NaN          0.000000      12  \n",
              "4   678.334763        244.791237          0.000000      12  "
            ],
            "text/html": [
              "\n",
              "  <div id=\"df-20b3c4e3-0c7a-40e2-a052-6826857f78ea\">\n",
              "    <div class=\"colab-df-container\">\n",
              "      <div>\n",
              "<style scoped>\n",
              "    .dataframe tbody tr th:only-of-type {\n",
              "        vertical-align: middle;\n",
              "    }\n",
              "\n",
              "    .dataframe tbody tr th {\n",
              "        vertical-align: top;\n",
              "    }\n",
              "\n",
              "    .dataframe thead th {\n",
              "        text-align: right;\n",
              "    }\n",
              "</style>\n",
              "<table border=\"1\" class=\"dataframe\">\n",
              "  <thead>\n",
              "    <tr style=\"text-align: right;\">\n",
              "      <th></th>\n",
              "      <th>CUST_ID</th>\n",
              "      <th>BALANCE</th>\n",
              "      <th>BALANCE_FREQUENCY</th>\n",
              "      <th>PURCHASES</th>\n",
              "      <th>ONEOFF_PURCHASES</th>\n",
              "      <th>INSTALLMENTS_PURCHASES</th>\n",
              "      <th>CASH_ADVANCE</th>\n",
              "      <th>PURCHASES_FREQUENCY</th>\n",
              "      <th>ONEOFF_PURCHASES_FREQUENCY</th>\n",
              "      <th>PURCHASES_INSTALLMENTS_FREQUENCY</th>\n",
              "      <th>CASH_ADVANCE_FREQUENCY</th>\n",
              "      <th>CASH_ADVANCE_TRX</th>\n",
              "      <th>PURCHASES_TRX</th>\n",
              "      <th>CREDIT_LIMIT</th>\n",
              "      <th>PAYMENTS</th>\n",
              "      <th>MINIMUM_PAYMENTS</th>\n",
              "      <th>PRC_FULL_PAYMENT</th>\n",
              "      <th>TENURE</th>\n",
              "    </tr>\n",
              "  </thead>\n",
              "  <tbody>\n",
              "    <tr>\n",
              "      <th>0</th>\n",
              "      <td>C10001</td>\n",
              "      <td>40.900749</td>\n",
              "      <td>0.818182</td>\n",
              "      <td>95.40</td>\n",
              "      <td>0.00</td>\n",
              "      <td>95.4</td>\n",
              "      <td>0.000000</td>\n",
              "      <td>0.166667</td>\n",
              "      <td>0.000000</td>\n",
              "      <td>0.083333</td>\n",
              "      <td>0.000000</td>\n",
              "      <td>0</td>\n",
              "      <td>2</td>\n",
              "      <td>1000.0</td>\n",
              "      <td>201.802084</td>\n",
              "      <td>139.509787</td>\n",
              "      <td>0.000000</td>\n",
              "      <td>12</td>\n",
              "    </tr>\n",
              "    <tr>\n",
              "      <th>1</th>\n",
              "      <td>C10002</td>\n",
              "      <td>3202.467416</td>\n",
              "      <td>0.909091</td>\n",
              "      <td>0.00</td>\n",
              "      <td>0.00</td>\n",
              "      <td>0.0</td>\n",
              "      <td>6442.945483</td>\n",
              "      <td>0.000000</td>\n",
              "      <td>0.000000</td>\n",
              "      <td>0.000000</td>\n",
              "      <td>0.250000</td>\n",
              "      <td>4</td>\n",
              "      <td>0</td>\n",
              "      <td>7000.0</td>\n",
              "      <td>4103.032597</td>\n",
              "      <td>1072.340217</td>\n",
              "      <td>0.222222</td>\n",
              "      <td>12</td>\n",
              "    </tr>\n",
              "    <tr>\n",
              "      <th>2</th>\n",
              "      <td>C10003</td>\n",
              "      <td>2495.148862</td>\n",
              "      <td>1.000000</td>\n",
              "      <td>773.17</td>\n",
              "      <td>773.17</td>\n",
              "      <td>0.0</td>\n",
              "      <td>0.000000</td>\n",
              "      <td>1.000000</td>\n",
              "      <td>1.000000</td>\n",
              "      <td>0.000000</td>\n",
              "      <td>0.000000</td>\n",
              "      <td>0</td>\n",
              "      <td>12</td>\n",
              "      <td>7500.0</td>\n",
              "      <td>622.066742</td>\n",
              "      <td>627.284787</td>\n",
              "      <td>0.000000</td>\n",
              "      <td>12</td>\n",
              "    </tr>\n",
              "    <tr>\n",
              "      <th>3</th>\n",
              "      <td>C10004</td>\n",
              "      <td>1666.670542</td>\n",
              "      <td>0.636364</td>\n",
              "      <td>1499.00</td>\n",
              "      <td>1499.00</td>\n",
              "      <td>0.0</td>\n",
              "      <td>205.788017</td>\n",
              "      <td>0.083333</td>\n",
              "      <td>0.083333</td>\n",
              "      <td>0.000000</td>\n",
              "      <td>0.083333</td>\n",
              "      <td>1</td>\n",
              "      <td>1</td>\n",
              "      <td>7500.0</td>\n",
              "      <td>0.000000</td>\n",
              "      <td>NaN</td>\n",
              "      <td>0.000000</td>\n",
              "      <td>12</td>\n",
              "    </tr>\n",
              "    <tr>\n",
              "      <th>4</th>\n",
              "      <td>C10005</td>\n",
              "      <td>817.714335</td>\n",
              "      <td>1.000000</td>\n",
              "      <td>16.00</td>\n",
              "      <td>16.00</td>\n",
              "      <td>0.0</td>\n",
              "      <td>0.000000</td>\n",
              "      <td>0.083333</td>\n",
              "      <td>0.083333</td>\n",
              "      <td>0.000000</td>\n",
              "      <td>0.000000</td>\n",
              "      <td>0</td>\n",
              "      <td>1</td>\n",
              "      <td>1200.0</td>\n",
              "      <td>678.334763</td>\n",
              "      <td>244.791237</td>\n",
              "      <td>0.000000</td>\n",
              "      <td>12</td>\n",
              "    </tr>\n",
              "  </tbody>\n",
              "</table>\n",
              "</div>\n",
              "      <button class=\"colab-df-convert\" onclick=\"convertToInteractive('df-20b3c4e3-0c7a-40e2-a052-6826857f78ea')\"\n",
              "              title=\"Convert this dataframe to an interactive table.\"\n",
              "              style=\"display:none;\">\n",
              "        \n",
              "  <svg xmlns=\"http://www.w3.org/2000/svg\" height=\"24px\"viewBox=\"0 0 24 24\"\n",
              "       width=\"24px\">\n",
              "    <path d=\"M0 0h24v24H0V0z\" fill=\"none\"/>\n",
              "    <path d=\"M18.56 5.44l.94 2.06.94-2.06 2.06-.94-2.06-.94-.94-2.06-.94 2.06-2.06.94zm-11 1L8.5 8.5l.94-2.06 2.06-.94-2.06-.94L8.5 2.5l-.94 2.06-2.06.94zm10 10l.94 2.06.94-2.06 2.06-.94-2.06-.94-.94-2.06-.94 2.06-2.06.94z\"/><path d=\"M17.41 7.96l-1.37-1.37c-.4-.4-.92-.59-1.43-.59-.52 0-1.04.2-1.43.59L10.3 9.45l-7.72 7.72c-.78.78-.78 2.05 0 2.83L4 21.41c.39.39.9.59 1.41.59.51 0 1.02-.2 1.41-.59l7.78-7.78 2.81-2.81c.8-.78.8-2.07 0-2.86zM5.41 20L4 18.59l7.72-7.72 1.47 1.35L5.41 20z\"/>\n",
              "  </svg>\n",
              "      </button>\n",
              "      \n",
              "  <style>\n",
              "    .colab-df-container {\n",
              "      display:flex;\n",
              "      flex-wrap:wrap;\n",
              "      gap: 12px;\n",
              "    }\n",
              "\n",
              "    .colab-df-convert {\n",
              "      background-color: #E8F0FE;\n",
              "      border: none;\n",
              "      border-radius: 50%;\n",
              "      cursor: pointer;\n",
              "      display: none;\n",
              "      fill: #1967D2;\n",
              "      height: 32px;\n",
              "      padding: 0 0 0 0;\n",
              "      width: 32px;\n",
              "    }\n",
              "\n",
              "    .colab-df-convert:hover {\n",
              "      background-color: #E2EBFA;\n",
              "      box-shadow: 0px 1px 2px rgba(60, 64, 67, 0.3), 0px 1px 3px 1px rgba(60, 64, 67, 0.15);\n",
              "      fill: #174EA6;\n",
              "    }\n",
              "\n",
              "    [theme=dark] .colab-df-convert {\n",
              "      background-color: #3B4455;\n",
              "      fill: #D2E3FC;\n",
              "    }\n",
              "\n",
              "    [theme=dark] .colab-df-convert:hover {\n",
              "      background-color: #434B5C;\n",
              "      box-shadow: 0px 1px 3px 1px rgba(0, 0, 0, 0.15);\n",
              "      filter: drop-shadow(0px 1px 2px rgba(0, 0, 0, 0.3));\n",
              "      fill: #FFFFFF;\n",
              "    }\n",
              "  </style>\n",
              "\n",
              "      <script>\n",
              "        const buttonEl =\n",
              "          document.querySelector('#df-20b3c4e3-0c7a-40e2-a052-6826857f78ea button.colab-df-convert');\n",
              "        buttonEl.style.display =\n",
              "          google.colab.kernel.accessAllowed ? 'block' : 'none';\n",
              "\n",
              "        async function convertToInteractive(key) {\n",
              "          const element = document.querySelector('#df-20b3c4e3-0c7a-40e2-a052-6826857f78ea');\n",
              "          const dataTable =\n",
              "            await google.colab.kernel.invokeFunction('convertToInteractive',\n",
              "                                                     [key], {});\n",
              "          if (!dataTable) return;\n",
              "\n",
              "          const docLinkHtml = 'Like what you see? Visit the ' +\n",
              "            '<a target=\"_blank\" href=https://colab.research.google.com/notebooks/data_table.ipynb>data table notebook</a>'\n",
              "            + ' to learn more about interactive tables.';\n",
              "          element.innerHTML = '';\n",
              "          dataTable['output_type'] = 'display_data';\n",
              "          await google.colab.output.renderOutput(dataTable, element);\n",
              "          const docLink = document.createElement('div');\n",
              "          docLink.innerHTML = docLinkHtml;\n",
              "          element.appendChild(docLink);\n",
              "        }\n",
              "      </script>\n",
              "    </div>\n",
              "  </div>\n",
              "  "
            ]
          },
          "metadata": {},
          "execution_count": 53
        }
      ]
    },
    {
      "cell_type": "code",
      "source": [
        "dataset.shape\n"
      ],
      "metadata": {
        "id": "visuh7p_3uv6",
        "outputId": "3dd5bef4-0f58-4002-9417-4f906663bf21",
        "execution": {
          "iopub.status.busy": "2022-09-13T09:38:27.567141Z",
          "iopub.execute_input": "2022-09-13T09:38:27.567526Z",
          "iopub.status.idle": "2022-09-13T09:38:27.578295Z",
          "shell.execute_reply.started": "2022-09-13T09:38:27.567490Z",
          "shell.execute_reply": "2022-09-13T09:38:27.577331Z"
        },
        "trusted": true,
        "colab": {
          "base_uri": "https://localhost:8080/"
        }
      },
      "execution_count": 54,
      "outputs": [
        {
          "output_type": "execute_result",
          "data": {
            "text/plain": [
              "(8950, 18)"
            ]
          },
          "metadata": {},
          "execution_count": 54
        }
      ]
    },
    {
      "cell_type": "code",
      "source": [
        "dataset.columns"
      ],
      "metadata": {
        "id": "qNCg2vgm3uyb",
        "outputId": "3c860391-e7d7-4557-9b23-1cc705d2fcac",
        "execution": {
          "iopub.status.busy": "2022-09-13T09:38:27.579489Z",
          "iopub.execute_input": "2022-09-13T09:38:27.580525Z",
          "iopub.status.idle": "2022-09-13T09:38:27.592212Z",
          "shell.execute_reply.started": "2022-09-13T09:38:27.580473Z",
          "shell.execute_reply": "2022-09-13T09:38:27.590911Z"
        },
        "trusted": true,
        "colab": {
          "base_uri": "https://localhost:8080/"
        }
      },
      "execution_count": 55,
      "outputs": [
        {
          "output_type": "execute_result",
          "data": {
            "text/plain": [
              "Index(['CUST_ID', 'BALANCE', 'BALANCE_FREQUENCY', 'PURCHASES',\n",
              "       'ONEOFF_PURCHASES', 'INSTALLMENTS_PURCHASES', 'CASH_ADVANCE',\n",
              "       'PURCHASES_FREQUENCY', 'ONEOFF_PURCHASES_FREQUENCY',\n",
              "       'PURCHASES_INSTALLMENTS_FREQUENCY', 'CASH_ADVANCE_FREQUENCY',\n",
              "       'CASH_ADVANCE_TRX', 'PURCHASES_TRX', 'CREDIT_LIMIT', 'PAYMENTS',\n",
              "       'MINIMUM_PAYMENTS', 'PRC_FULL_PAYMENT', 'TENURE'],\n",
              "      dtype='object')"
            ]
          },
          "metadata": {},
          "execution_count": 55
        }
      ]
    },
    {
      "cell_type": "code",
      "source": [
        "dataset.info()"
      ],
      "metadata": {
        "id": "8dpzleoi3u07",
        "outputId": "6e657482-1bb5-4dbc-e7ec-89ae159c086a",
        "execution": {
          "iopub.status.busy": "2022-09-13T09:38:27.594233Z",
          "iopub.execute_input": "2022-09-13T09:38:27.594653Z",
          "iopub.status.idle": "2022-09-13T09:38:27.612542Z",
          "shell.execute_reply.started": "2022-09-13T09:38:27.594618Z",
          "shell.execute_reply": "2022-09-13T09:38:27.611247Z"
        },
        "trusted": true,
        "colab": {
          "base_uri": "https://localhost:8080/"
        }
      },
      "execution_count": 56,
      "outputs": [
        {
          "output_type": "stream",
          "name": "stdout",
          "text": [
            "<class 'pandas.core.frame.DataFrame'>\n",
            "RangeIndex: 8950 entries, 0 to 8949\n",
            "Data columns (total 18 columns):\n",
            " #   Column                            Non-Null Count  Dtype  \n",
            "---  ------                            --------------  -----  \n",
            " 0   CUST_ID                           8950 non-null   object \n",
            " 1   BALANCE                           8950 non-null   float64\n",
            " 2   BALANCE_FREQUENCY                 8950 non-null   float64\n",
            " 3   PURCHASES                         8950 non-null   float64\n",
            " 4   ONEOFF_PURCHASES                  8950 non-null   float64\n",
            " 5   INSTALLMENTS_PURCHASES            8950 non-null   float64\n",
            " 6   CASH_ADVANCE                      8950 non-null   float64\n",
            " 7   PURCHASES_FREQUENCY               8950 non-null   float64\n",
            " 8   ONEOFF_PURCHASES_FREQUENCY        8950 non-null   float64\n",
            " 9   PURCHASES_INSTALLMENTS_FREQUENCY  8950 non-null   float64\n",
            " 10  CASH_ADVANCE_FREQUENCY            8950 non-null   float64\n",
            " 11  CASH_ADVANCE_TRX                  8950 non-null   int64  \n",
            " 12  PURCHASES_TRX                     8950 non-null   int64  \n",
            " 13  CREDIT_LIMIT                      8949 non-null   float64\n",
            " 14  PAYMENTS                          8950 non-null   float64\n",
            " 15  MINIMUM_PAYMENTS                  8637 non-null   float64\n",
            " 16  PRC_FULL_PAYMENT                  8950 non-null   float64\n",
            " 17  TENURE                            8950 non-null   int64  \n",
            "dtypes: float64(14), int64(3), object(1)\n",
            "memory usage: 1.2+ MB\n"
          ]
        }
      ]
    },
    {
      "cell_type": "code",
      "source": [
        "# categorical colums \n",
        "dataset.select_dtypes(include='object').columns"
      ],
      "metadata": {
        "id": "tAasvoSw3u3R",
        "outputId": "be2470c1-5983-4b90-ef0a-a7b34d9b28b8",
        "execution": {
          "iopub.status.busy": "2022-09-13T09:38:27.614757Z",
          "iopub.execute_input": "2022-09-13T09:38:27.615167Z",
          "iopub.status.idle": "2022-09-13T09:38:27.624896Z",
          "shell.execute_reply.started": "2022-09-13T09:38:27.615132Z",
          "shell.execute_reply": "2022-09-13T09:38:27.623456Z"
        },
        "trusted": true,
        "colab": {
          "base_uri": "https://localhost:8080/"
        }
      },
      "execution_count": 57,
      "outputs": [
        {
          "output_type": "execute_result",
          "data": {
            "text/plain": [
              "Index(['CUST_ID'], dtype='object')"
            ]
          },
          "metadata": {},
          "execution_count": 57
        }
      ]
    },
    {
      "cell_type": "code",
      "source": [
        "len(dataset.select_dtypes(include='object').columns)"
      ],
      "metadata": {
        "id": "seHiwYfH3u53",
        "outputId": "772e10a9-67a5-4e95-a549-0466eae7e067",
        "execution": {
          "iopub.status.busy": "2022-09-13T09:38:27.626451Z",
          "iopub.execute_input": "2022-09-13T09:38:27.627221Z",
          "iopub.status.idle": "2022-09-13T09:38:27.639369Z",
          "shell.execute_reply.started": "2022-09-13T09:38:27.627175Z",
          "shell.execute_reply": "2022-09-13T09:38:27.638436Z"
        },
        "trusted": true,
        "colab": {
          "base_uri": "https://localhost:8080/"
        }
      },
      "execution_count": 58,
      "outputs": [
        {
          "output_type": "execute_result",
          "data": {
            "text/plain": [
              "1"
            ]
          },
          "metadata": {},
          "execution_count": 58
        }
      ]
    },
    {
      "cell_type": "code",
      "source": [
        "# numerical columns \n",
        "dataset.select_dtypes(include=['int64','float64']).columns"
      ],
      "metadata": {
        "id": "TaNq4bYT3u8b",
        "outputId": "93bcc9b5-af32-42c9-af1f-63b113e8fcaa",
        "execution": {
          "iopub.status.busy": "2022-09-13T09:38:27.641092Z",
          "iopub.execute_input": "2022-09-13T09:38:27.641677Z",
          "iopub.status.idle": "2022-09-13T09:38:27.656235Z",
          "shell.execute_reply.started": "2022-09-13T09:38:27.641642Z",
          "shell.execute_reply": "2022-09-13T09:38:27.655278Z"
        },
        "trusted": true,
        "colab": {
          "base_uri": "https://localhost:8080/"
        }
      },
      "execution_count": 59,
      "outputs": [
        {
          "output_type": "execute_result",
          "data": {
            "text/plain": [
              "Index(['BALANCE', 'BALANCE_FREQUENCY', 'PURCHASES', 'ONEOFF_PURCHASES',\n",
              "       'INSTALLMENTS_PURCHASES', 'CASH_ADVANCE', 'PURCHASES_FREQUENCY',\n",
              "       'ONEOFF_PURCHASES_FREQUENCY', 'PURCHASES_INSTALLMENTS_FREQUENCY',\n",
              "       'CASH_ADVANCE_FREQUENCY', 'CASH_ADVANCE_TRX', 'PURCHASES_TRX',\n",
              "       'CREDIT_LIMIT', 'PAYMENTS', 'MINIMUM_PAYMENTS', 'PRC_FULL_PAYMENT',\n",
              "       'TENURE'],\n",
              "      dtype='object')"
            ]
          },
          "metadata": {},
          "execution_count": 59
        }
      ]
    },
    {
      "cell_type": "code",
      "source": [
        "# statistical summary\n",
        "dataset.describe()"
      ],
      "metadata": {
        "id": "NloYYN7X3u_D",
        "outputId": "443d87b3-2c54-4c58-bd2c-b9957b2411f0",
        "execution": {
          "iopub.status.busy": "2022-09-13T09:38:27.852069Z",
          "iopub.execute_input": "2022-09-13T09:38:27.852480Z",
          "iopub.status.idle": "2022-09-13T09:38:27.923985Z",
          "shell.execute_reply.started": "2022-09-13T09:38:27.852445Z",
          "shell.execute_reply": "2022-09-13T09:38:27.922760Z"
        },
        "trusted": true,
        "colab": {
          "base_uri": "https://localhost:8080/",
          "height": 361
        }
      },
      "execution_count": 60,
      "outputs": [
        {
          "output_type": "execute_result",
          "data": {
            "text/plain": [
              "            BALANCE  BALANCE_FREQUENCY     PURCHASES  ONEOFF_PURCHASES  \\\n",
              "count   8950.000000        8950.000000   8950.000000       8950.000000   \n",
              "mean    1564.474828           0.877271   1003.204834        592.437371   \n",
              "std     2081.531879           0.236904   2136.634782       1659.887917   \n",
              "min        0.000000           0.000000      0.000000          0.000000   \n",
              "25%      128.281915           0.888889     39.635000          0.000000   \n",
              "50%      873.385231           1.000000    361.280000         38.000000   \n",
              "75%     2054.140036           1.000000   1110.130000        577.405000   \n",
              "max    19043.138560           1.000000  49039.570000      40761.250000   \n",
              "\n",
              "       INSTALLMENTS_PURCHASES  CASH_ADVANCE  PURCHASES_FREQUENCY  \\\n",
              "count             8950.000000   8950.000000          8950.000000   \n",
              "mean               411.067645    978.871112             0.490351   \n",
              "std                904.338115   2097.163877             0.401371   \n",
              "min                  0.000000      0.000000             0.000000   \n",
              "25%                  0.000000      0.000000             0.083333   \n",
              "50%                 89.000000      0.000000             0.500000   \n",
              "75%                468.637500   1113.821139             0.916667   \n",
              "max              22500.000000  47137.211760             1.000000   \n",
              "\n",
              "       ONEOFF_PURCHASES_FREQUENCY  PURCHASES_INSTALLMENTS_FREQUENCY  \\\n",
              "count                 8950.000000                       8950.000000   \n",
              "mean                     0.202458                          0.364437   \n",
              "std                      0.298336                          0.397448   \n",
              "min                      0.000000                          0.000000   \n",
              "25%                      0.000000                          0.000000   \n",
              "50%                      0.083333                          0.166667   \n",
              "75%                      0.300000                          0.750000   \n",
              "max                      1.000000                          1.000000   \n",
              "\n",
              "       CASH_ADVANCE_FREQUENCY  CASH_ADVANCE_TRX  PURCHASES_TRX  CREDIT_LIMIT  \\\n",
              "count             8950.000000       8950.000000    8950.000000   8949.000000   \n",
              "mean                 0.135144          3.248827      14.709832   4494.449450   \n",
              "std                  0.200121          6.824647      24.857649   3638.815725   \n",
              "min                  0.000000          0.000000       0.000000     50.000000   \n",
              "25%                  0.000000          0.000000       1.000000   1600.000000   \n",
              "50%                  0.000000          0.000000       7.000000   3000.000000   \n",
              "75%                  0.222222          4.000000      17.000000   6500.000000   \n",
              "max                  1.500000        123.000000     358.000000  30000.000000   \n",
              "\n",
              "           PAYMENTS  MINIMUM_PAYMENTS  PRC_FULL_PAYMENT       TENURE  \n",
              "count   8950.000000       8637.000000       8950.000000  8950.000000  \n",
              "mean    1733.143852        864.206542          0.153715    11.517318  \n",
              "std     2895.063757       2372.446607          0.292499     1.338331  \n",
              "min        0.000000          0.019163          0.000000     6.000000  \n",
              "25%      383.276166        169.123707          0.000000    12.000000  \n",
              "50%      856.901546        312.343947          0.000000    12.000000  \n",
              "75%     1901.134317        825.485459          0.142857    12.000000  \n",
              "max    50721.483360      76406.207520          1.000000    12.000000  "
            ],
            "text/html": [
              "\n",
              "  <div id=\"df-59fe6369-45e5-494e-9e31-2d02ab5b2b0c\">\n",
              "    <div class=\"colab-df-container\">\n",
              "      <div>\n",
              "<style scoped>\n",
              "    .dataframe tbody tr th:only-of-type {\n",
              "        vertical-align: middle;\n",
              "    }\n",
              "\n",
              "    .dataframe tbody tr th {\n",
              "        vertical-align: top;\n",
              "    }\n",
              "\n",
              "    .dataframe thead th {\n",
              "        text-align: right;\n",
              "    }\n",
              "</style>\n",
              "<table border=\"1\" class=\"dataframe\">\n",
              "  <thead>\n",
              "    <tr style=\"text-align: right;\">\n",
              "      <th></th>\n",
              "      <th>BALANCE</th>\n",
              "      <th>BALANCE_FREQUENCY</th>\n",
              "      <th>PURCHASES</th>\n",
              "      <th>ONEOFF_PURCHASES</th>\n",
              "      <th>INSTALLMENTS_PURCHASES</th>\n",
              "      <th>CASH_ADVANCE</th>\n",
              "      <th>PURCHASES_FREQUENCY</th>\n",
              "      <th>ONEOFF_PURCHASES_FREQUENCY</th>\n",
              "      <th>PURCHASES_INSTALLMENTS_FREQUENCY</th>\n",
              "      <th>CASH_ADVANCE_FREQUENCY</th>\n",
              "      <th>CASH_ADVANCE_TRX</th>\n",
              "      <th>PURCHASES_TRX</th>\n",
              "      <th>CREDIT_LIMIT</th>\n",
              "      <th>PAYMENTS</th>\n",
              "      <th>MINIMUM_PAYMENTS</th>\n",
              "      <th>PRC_FULL_PAYMENT</th>\n",
              "      <th>TENURE</th>\n",
              "    </tr>\n",
              "  </thead>\n",
              "  <tbody>\n",
              "    <tr>\n",
              "      <th>count</th>\n",
              "      <td>8950.000000</td>\n",
              "      <td>8950.000000</td>\n",
              "      <td>8950.000000</td>\n",
              "      <td>8950.000000</td>\n",
              "      <td>8950.000000</td>\n",
              "      <td>8950.000000</td>\n",
              "      <td>8950.000000</td>\n",
              "      <td>8950.000000</td>\n",
              "      <td>8950.000000</td>\n",
              "      <td>8950.000000</td>\n",
              "      <td>8950.000000</td>\n",
              "      <td>8950.000000</td>\n",
              "      <td>8949.000000</td>\n",
              "      <td>8950.000000</td>\n",
              "      <td>8637.000000</td>\n",
              "      <td>8950.000000</td>\n",
              "      <td>8950.000000</td>\n",
              "    </tr>\n",
              "    <tr>\n",
              "      <th>mean</th>\n",
              "      <td>1564.474828</td>\n",
              "      <td>0.877271</td>\n",
              "      <td>1003.204834</td>\n",
              "      <td>592.437371</td>\n",
              "      <td>411.067645</td>\n",
              "      <td>978.871112</td>\n",
              "      <td>0.490351</td>\n",
              "      <td>0.202458</td>\n",
              "      <td>0.364437</td>\n",
              "      <td>0.135144</td>\n",
              "      <td>3.248827</td>\n",
              "      <td>14.709832</td>\n",
              "      <td>4494.449450</td>\n",
              "      <td>1733.143852</td>\n",
              "      <td>864.206542</td>\n",
              "      <td>0.153715</td>\n",
              "      <td>11.517318</td>\n",
              "    </tr>\n",
              "    <tr>\n",
              "      <th>std</th>\n",
              "      <td>2081.531879</td>\n",
              "      <td>0.236904</td>\n",
              "      <td>2136.634782</td>\n",
              "      <td>1659.887917</td>\n",
              "      <td>904.338115</td>\n",
              "      <td>2097.163877</td>\n",
              "      <td>0.401371</td>\n",
              "      <td>0.298336</td>\n",
              "      <td>0.397448</td>\n",
              "      <td>0.200121</td>\n",
              "      <td>6.824647</td>\n",
              "      <td>24.857649</td>\n",
              "      <td>3638.815725</td>\n",
              "      <td>2895.063757</td>\n",
              "      <td>2372.446607</td>\n",
              "      <td>0.292499</td>\n",
              "      <td>1.338331</td>\n",
              "    </tr>\n",
              "    <tr>\n",
              "      <th>min</th>\n",
              "      <td>0.000000</td>\n",
              "      <td>0.000000</td>\n",
              "      <td>0.000000</td>\n",
              "      <td>0.000000</td>\n",
              "      <td>0.000000</td>\n",
              "      <td>0.000000</td>\n",
              "      <td>0.000000</td>\n",
              "      <td>0.000000</td>\n",
              "      <td>0.000000</td>\n",
              "      <td>0.000000</td>\n",
              "      <td>0.000000</td>\n",
              "      <td>0.000000</td>\n",
              "      <td>50.000000</td>\n",
              "      <td>0.000000</td>\n",
              "      <td>0.019163</td>\n",
              "      <td>0.000000</td>\n",
              "      <td>6.000000</td>\n",
              "    </tr>\n",
              "    <tr>\n",
              "      <th>25%</th>\n",
              "      <td>128.281915</td>\n",
              "      <td>0.888889</td>\n",
              "      <td>39.635000</td>\n",
              "      <td>0.000000</td>\n",
              "      <td>0.000000</td>\n",
              "      <td>0.000000</td>\n",
              "      <td>0.083333</td>\n",
              "      <td>0.000000</td>\n",
              "      <td>0.000000</td>\n",
              "      <td>0.000000</td>\n",
              "      <td>0.000000</td>\n",
              "      <td>1.000000</td>\n",
              "      <td>1600.000000</td>\n",
              "      <td>383.276166</td>\n",
              "      <td>169.123707</td>\n",
              "      <td>0.000000</td>\n",
              "      <td>12.000000</td>\n",
              "    </tr>\n",
              "    <tr>\n",
              "      <th>50%</th>\n",
              "      <td>873.385231</td>\n",
              "      <td>1.000000</td>\n",
              "      <td>361.280000</td>\n",
              "      <td>38.000000</td>\n",
              "      <td>89.000000</td>\n",
              "      <td>0.000000</td>\n",
              "      <td>0.500000</td>\n",
              "      <td>0.083333</td>\n",
              "      <td>0.166667</td>\n",
              "      <td>0.000000</td>\n",
              "      <td>0.000000</td>\n",
              "      <td>7.000000</td>\n",
              "      <td>3000.000000</td>\n",
              "      <td>856.901546</td>\n",
              "      <td>312.343947</td>\n",
              "      <td>0.000000</td>\n",
              "      <td>12.000000</td>\n",
              "    </tr>\n",
              "    <tr>\n",
              "      <th>75%</th>\n",
              "      <td>2054.140036</td>\n",
              "      <td>1.000000</td>\n",
              "      <td>1110.130000</td>\n",
              "      <td>577.405000</td>\n",
              "      <td>468.637500</td>\n",
              "      <td>1113.821139</td>\n",
              "      <td>0.916667</td>\n",
              "      <td>0.300000</td>\n",
              "      <td>0.750000</td>\n",
              "      <td>0.222222</td>\n",
              "      <td>4.000000</td>\n",
              "      <td>17.000000</td>\n",
              "      <td>6500.000000</td>\n",
              "      <td>1901.134317</td>\n",
              "      <td>825.485459</td>\n",
              "      <td>0.142857</td>\n",
              "      <td>12.000000</td>\n",
              "    </tr>\n",
              "    <tr>\n",
              "      <th>max</th>\n",
              "      <td>19043.138560</td>\n",
              "      <td>1.000000</td>\n",
              "      <td>49039.570000</td>\n",
              "      <td>40761.250000</td>\n",
              "      <td>22500.000000</td>\n",
              "      <td>47137.211760</td>\n",
              "      <td>1.000000</td>\n",
              "      <td>1.000000</td>\n",
              "      <td>1.000000</td>\n",
              "      <td>1.500000</td>\n",
              "      <td>123.000000</td>\n",
              "      <td>358.000000</td>\n",
              "      <td>30000.000000</td>\n",
              "      <td>50721.483360</td>\n",
              "      <td>76406.207520</td>\n",
              "      <td>1.000000</td>\n",
              "      <td>12.000000</td>\n",
              "    </tr>\n",
              "  </tbody>\n",
              "</table>\n",
              "</div>\n",
              "      <button class=\"colab-df-convert\" onclick=\"convertToInteractive('df-59fe6369-45e5-494e-9e31-2d02ab5b2b0c')\"\n",
              "              title=\"Convert this dataframe to an interactive table.\"\n",
              "              style=\"display:none;\">\n",
              "        \n",
              "  <svg xmlns=\"http://www.w3.org/2000/svg\" height=\"24px\"viewBox=\"0 0 24 24\"\n",
              "       width=\"24px\">\n",
              "    <path d=\"M0 0h24v24H0V0z\" fill=\"none\"/>\n",
              "    <path d=\"M18.56 5.44l.94 2.06.94-2.06 2.06-.94-2.06-.94-.94-2.06-.94 2.06-2.06.94zm-11 1L8.5 8.5l.94-2.06 2.06-.94-2.06-.94L8.5 2.5l-.94 2.06-2.06.94zm10 10l.94 2.06.94-2.06 2.06-.94-2.06-.94-.94-2.06-.94 2.06-2.06.94z\"/><path d=\"M17.41 7.96l-1.37-1.37c-.4-.4-.92-.59-1.43-.59-.52 0-1.04.2-1.43.59L10.3 9.45l-7.72 7.72c-.78.78-.78 2.05 0 2.83L4 21.41c.39.39.9.59 1.41.59.51 0 1.02-.2 1.41-.59l7.78-7.78 2.81-2.81c.8-.78.8-2.07 0-2.86zM5.41 20L4 18.59l7.72-7.72 1.47 1.35L5.41 20z\"/>\n",
              "  </svg>\n",
              "      </button>\n",
              "      \n",
              "  <style>\n",
              "    .colab-df-container {\n",
              "      display:flex;\n",
              "      flex-wrap:wrap;\n",
              "      gap: 12px;\n",
              "    }\n",
              "\n",
              "    .colab-df-convert {\n",
              "      background-color: #E8F0FE;\n",
              "      border: none;\n",
              "      border-radius: 50%;\n",
              "      cursor: pointer;\n",
              "      display: none;\n",
              "      fill: #1967D2;\n",
              "      height: 32px;\n",
              "      padding: 0 0 0 0;\n",
              "      width: 32px;\n",
              "    }\n",
              "\n",
              "    .colab-df-convert:hover {\n",
              "      background-color: #E2EBFA;\n",
              "      box-shadow: 0px 1px 2px rgba(60, 64, 67, 0.3), 0px 1px 3px 1px rgba(60, 64, 67, 0.15);\n",
              "      fill: #174EA6;\n",
              "    }\n",
              "\n",
              "    [theme=dark] .colab-df-convert {\n",
              "      background-color: #3B4455;\n",
              "      fill: #D2E3FC;\n",
              "    }\n",
              "\n",
              "    [theme=dark] .colab-df-convert:hover {\n",
              "      background-color: #434B5C;\n",
              "      box-shadow: 0px 1px 3px 1px rgba(0, 0, 0, 0.15);\n",
              "      filter: drop-shadow(0px 1px 2px rgba(0, 0, 0, 0.3));\n",
              "      fill: #FFFFFF;\n",
              "    }\n",
              "  </style>\n",
              "\n",
              "      <script>\n",
              "        const buttonEl =\n",
              "          document.querySelector('#df-59fe6369-45e5-494e-9e31-2d02ab5b2b0c button.colab-df-convert');\n",
              "        buttonEl.style.display =\n",
              "          google.colab.kernel.accessAllowed ? 'block' : 'none';\n",
              "\n",
              "        async function convertToInteractive(key) {\n",
              "          const element = document.querySelector('#df-59fe6369-45e5-494e-9e31-2d02ab5b2b0c');\n",
              "          const dataTable =\n",
              "            await google.colab.kernel.invokeFunction('convertToInteractive',\n",
              "                                                     [key], {});\n",
              "          if (!dataTable) return;\n",
              "\n",
              "          const docLinkHtml = 'Like what you see? Visit the ' +\n",
              "            '<a target=\"_blank\" href=https://colab.research.google.com/notebooks/data_table.ipynb>data table notebook</a>'\n",
              "            + ' to learn more about interactive tables.';\n",
              "          element.innerHTML = '';\n",
              "          dataTable['output_type'] = 'display_data';\n",
              "          await google.colab.output.renderOutput(dataTable, element);\n",
              "          const docLink = document.createElement('div');\n",
              "          docLink.innerHTML = docLinkHtml;\n",
              "          element.appendChild(docLink);\n",
              "        }\n",
              "      </script>\n",
              "    </div>\n",
              "  </div>\n",
              "  "
            ]
          },
          "metadata": {},
          "execution_count": 60
        }
      ]
    },
    {
      "cell_type": "code",
      "source": [
        "# each series in the DataFrame\n",
        "dataset.hist(bins = 50, figsize = (20,15))"
      ],
      "metadata": {
        "id": "VHneiYEIXYDo",
        "outputId": "3ec22de6-af4a-4f16-ee6a-1fe8c8adf83b",
        "execution": {
          "iopub.status.busy": "2022-09-13T09:38:27.927571Z",
          "iopub.execute_input": "2022-09-13T09:38:27.928264Z",
          "iopub.status.idle": "2022-09-13T09:38:31.792747Z",
          "shell.execute_reply.started": "2022-09-13T09:38:27.928226Z",
          "shell.execute_reply": "2022-09-13T09:38:31.791320Z"
        },
        "trusted": true,
        "colab": {
          "base_uri": "https://localhost:8080/",
          "height": 1000
        }
      },
      "execution_count": 61,
      "outputs": [
        {
          "output_type": "execute_result",
          "data": {
            "text/plain": [
              "array([[<matplotlib.axes._subplots.AxesSubplot object at 0x7f2870857990>,\n",
              "        <matplotlib.axes._subplots.AxesSubplot object at 0x7f287085c910>,\n",
              "        <matplotlib.axes._subplots.AxesSubplot object at 0x7f2870cc4f10>,\n",
              "        <matplotlib.axes._subplots.AxesSubplot object at 0x7f286c751550>],\n",
              "       [<matplotlib.axes._subplots.AxesSubplot object at 0x7f2870b79b50>,\n",
              "        <matplotlib.axes._subplots.AxesSubplot object at 0x7f2870acc190>,\n",
              "        <matplotlib.axes._subplots.AxesSubplot object at 0x7f2870ce97d0>,\n",
              "        <matplotlib.axes._subplots.AxesSubplot object at 0x7f2870c57c90>],\n",
              "       [<matplotlib.axes._subplots.AxesSubplot object at 0x7f2870b06590>,\n",
              "        <matplotlib.axes._subplots.AxesSubplot object at 0x7f2870988bd0>,\n",
              "        <matplotlib.axes._subplots.AxesSubplot object at 0x7f2870887bd0>,\n",
              "        <matplotlib.axes._subplots.AxesSubplot object at 0x7f28709ef110>],\n",
              "       [<matplotlib.axes._subplots.AxesSubplot object at 0x7f2870a18610>,\n",
              "        <matplotlib.axes._subplots.AxesSubplot object at 0x7f286c6f5b10>,\n",
              "        <matplotlib.axes._subplots.AxesSubplot object at 0x7f286c6b8050>,\n",
              "        <matplotlib.axes._subplots.AxesSubplot object at 0x7f286c66d550>],\n",
              "       [<matplotlib.axes._subplots.AxesSubplot object at 0x7f286c6a2a50>,\n",
              "        <matplotlib.axes._subplots.AxesSubplot object at 0x7f286c65cf50>,\n",
              "        <matplotlib.axes._subplots.AxesSubplot object at 0x7f286c61e490>,\n",
              "        <matplotlib.axes._subplots.AxesSubplot object at 0x7f286c5d6990>]],\n",
              "      dtype=object)"
            ]
          },
          "metadata": {},
          "execution_count": 61
        },
        {
          "output_type": "display_data",
          "data": {
            "text/plain": [
              "<Figure size 1440x1080 with 20 Axes>"
            ],
            "image/png": "[encoded data removed]"
          },
          "metadata": {
            "needs_background": "light"
          }
        }
      ]
    },
    {
      "cell_type": "markdown",
      "source": [
        "### Dealing with missing values"
      ],
      "metadata": {
        "id": "4nf9CLLK9Sml"
      }
    },
    {
      "cell_type": "code",
      "source": [
        "dataset.isnull().values.any()"
      ],
      "metadata": {
        "id": "2T0rFDGQ3vBY",
        "outputId": "a9ea3a4d-9950-44ca-c0b4-f80eae56c283",
        "execution": {
          "iopub.status.busy": "2022-09-13T09:38:31.794330Z",
          "iopub.execute_input": "2022-09-13T09:38:31.794706Z",
          "iopub.status.idle": "2022-09-13T09:38:31.803953Z",
          "shell.execute_reply.started": "2022-09-13T09:38:31.794671Z",
          "shell.execute_reply": "2022-09-13T09:38:31.802777Z"
        },
        "trusted": true,
        "colab": {
          "base_uri": "https://localhost:8080/"
        }
      },
      "execution_count": 62,
      "outputs": [
        {
          "output_type": "execute_result",
          "data": {
            "text/plain": [
              "True"
            ]
          },
          "metadata": {},
          "execution_count": 62
        }
      ]
    },
    {
      "cell_type": "code",
      "source": [
        "dataset.isnull().values.sum()"
      ],
      "metadata": {
        "id": "tBCdyodY3vES",
        "outputId": "b736b1d0-a20a-4a14-8402-c6e570ea75ba",
        "execution": {
          "iopub.status.busy": "2022-09-13T09:38:31.806916Z",
          "iopub.execute_input": "2022-09-13T09:38:31.807333Z",
          "iopub.status.idle": "2022-09-13T09:38:31.817481Z",
          "shell.execute_reply.started": "2022-09-13T09:38:31.807299Z",
          "shell.execute_reply": "2022-09-13T09:38:31.816472Z"
        },
        "trusted": true,
        "colab": {
          "base_uri": "https://localhost:8080/"
        }
      },
      "execution_count": 63,
      "outputs": [
        {
          "output_type": "execute_result",
          "data": {
            "text/plain": [
              "314"
            ]
          },
          "metadata": {},
          "execution_count": 63
        }
      ]
    },
    {
      "cell_type": "code",
      "source": [
        "dataset.columns[dataset.isnull().any()]"
      ],
      "metadata": {
        "id": "tCjIG4Dk3vHC",
        "outputId": "3a8b0e47-d12d-49cf-a812-02c9f9855b61",
        "execution": {
          "iopub.status.busy": "2022-09-13T09:38:31.819219Z",
          "iopub.execute_input": "2022-09-13T09:38:31.819909Z",
          "iopub.status.idle": "2022-09-13T09:38:31.830238Z",
          "shell.execute_reply.started": "2022-09-13T09:38:31.819831Z",
          "shell.execute_reply": "2022-09-13T09:38:31.829011Z"
        },
        "trusted": true,
        "colab": {
          "base_uri": "https://localhost:8080/"
        }
      },
      "execution_count": 64,
      "outputs": [
        {
          "output_type": "execute_result",
          "data": {
            "text/plain": [
              "Index(['CREDIT_LIMIT', 'MINIMUM_PAYMENTS'], dtype='object')"
            ]
          },
          "metadata": {},
          "execution_count": 64
        }
      ]
    },
    {
      "cell_type": "code",
      "source": [
        "len(dataset.columns[dataset.isnull().any()])"
      ],
      "metadata": {
        "id": "RU_Xd7B73vJu",
        "outputId": "3161d884-6ed4-4850-ce90-436e2e8a0625",
        "execution": {
          "iopub.status.busy": "2022-09-13T09:38:31.831793Z",
          "iopub.execute_input": "2022-09-13T09:38:31.832267Z",
          "iopub.status.idle": "2022-09-13T09:38:31.841493Z",
          "shell.execute_reply.started": "2022-09-13T09:38:31.832235Z",
          "shell.execute_reply": "2022-09-13T09:38:31.840584Z"
        },
        "trusted": true,
        "colab": {
          "base_uri": "https://localhost:8080/"
        }
      },
      "execution_count": 65,
      "outputs": [
        {
          "output_type": "execute_result",
          "data": {
            "text/plain": [
              "2"
            ]
          },
          "metadata": {},
          "execution_count": 65
        }
      ]
    },
    {
      "cell_type": "code",
      "source": [
        "dataset.isnull().sum().sort_values(ascending=False).head()"
      ],
      "metadata": {
        "id": "ItYhYyVeYpMj",
        "outputId": "f9a0178e-bab3-490f-ad47-ac4e6a6764bd",
        "execution": {
          "iopub.status.busy": "2022-09-13T09:38:31.843280Z",
          "iopub.execute_input": "2022-09-13T09:38:31.844004Z",
          "iopub.status.idle": "2022-09-13T09:38:31.856456Z",
          "shell.execute_reply.started": "2022-09-13T09:38:31.843968Z",
          "shell.execute_reply": "2022-09-13T09:38:31.855217Z"
        },
        "trusted": true,
        "colab": {
          "base_uri": "https://localhost:8080/"
        }
      },
      "execution_count": 66,
      "outputs": [
        {
          "output_type": "execute_result",
          "data": {
            "text/plain": [
              "MINIMUM_PAYMENTS    313\n",
              "CREDIT_LIMIT          1\n",
              "CUST_ID               0\n",
              "BALANCE               0\n",
              "PRC_FULL_PAYMENT      0\n",
              "dtype: int64"
            ]
          },
          "metadata": {},
          "execution_count": 66
        }
      ]
    },
    {
      "cell_type": "code",
      "source": [
        "dataset['CREDIT_LIMIT'] = dataset['CREDIT_LIMIT'].fillna(dataset['CREDIT_LIMIT'].mean())\n",
        "dataset['MINIMUM_PAYMENTS'] = dataset['MINIMUM_PAYMENTS'].fillna(dataset['MINIMUM_PAYMENTS'].mean())"
      ],
      "metadata": {
        "id": "l3rVHJ8G3vMb",
        "execution": {
          "iopub.status.busy": "2022-09-13T09:38:31.860392Z",
          "iopub.execute_input": "2022-09-13T09:38:31.861150Z",
          "iopub.status.idle": "2022-09-13T09:38:31.869508Z",
          "shell.execute_reply.started": "2022-09-13T09:38:31.861114Z",
          "shell.execute_reply": "2022-09-13T09:38:31.868519Z"
        },
        "trusted": true
      },
      "execution_count": 67,
      "outputs": []
    },
    {
      "cell_type": "code",
      "source": [
        "len(dataset.columns[dataset.isnull().any()])"
      ],
      "metadata": {
        "id": "7Hzscyoy3vPO",
        "outputId": "11ad983b-3a28-4bea-b6c6-0e7ca8ce7089",
        "execution": {
          "iopub.status.busy": "2022-09-13T09:38:31.871311Z",
          "iopub.execute_input": "2022-09-13T09:38:31.872239Z",
          "iopub.status.idle": "2022-09-13T09:38:31.884668Z",
          "shell.execute_reply.started": "2022-09-13T09:38:31.872189Z",
          "shell.execute_reply": "2022-09-13T09:38:31.883528Z"
        },
        "trusted": true,
        "colab": {
          "base_uri": "https://localhost:8080/"
        }
      },
      "execution_count": 68,
      "outputs": [
        {
          "output_type": "execute_result",
          "data": {
            "text/plain": [
              "0"
            ]
          },
          "metadata": {},
          "execution_count": 68
        }
      ]
    },
    {
      "cell_type": "markdown",
      "source": [
        "### Encoding categorical data"
      ],
      "metadata": {
        "id": "KpZg_6kq-Ao-"
      }
    },
    {
      "cell_type": "code",
      "source": [
        "# categorical columns\n",
        "dataset.select_dtypes(include='object').columns"
      ],
      "metadata": {
        "id": "1LB4MbvQ96DD",
        "outputId": "74b288e8-c8c0-4276-b3fa-cd36570be0d1",
        "execution": {
          "iopub.status.busy": "2022-09-13T09:38:31.888872Z",
          "iopub.execute_input": "2022-09-13T09:38:31.889492Z",
          "iopub.status.idle": "2022-09-13T09:38:31.897438Z",
          "shell.execute_reply.started": "2022-09-13T09:38:31.889459Z",
          "shell.execute_reply": "2022-09-13T09:38:31.896546Z"
        },
        "trusted": true,
        "colab": {
          "base_uri": "https://localhost:8080/"
        }
      },
      "execution_count": 69,
      "outputs": [
        {
          "output_type": "execute_result",
          "data": {
            "text/plain": [
              "Index(['CUST_ID'], dtype='object')"
            ]
          },
          "metadata": {},
          "execution_count": 69
        }
      ]
    },
    {
      "cell_type": "code",
      "source": [
        "dataset.head()"
      ],
      "metadata": {
        "id": "chQodTmN96Fm",
        "outputId": "b214be4a-fa75-4bcc-e01b-1904a395662f",
        "execution": {
          "iopub.status.busy": "2022-09-13T09:38:31.898904Z",
          "iopub.execute_input": "2022-09-13T09:38:31.899820Z",
          "iopub.status.idle": "2022-09-13T09:38:31.925822Z",
          "shell.execute_reply.started": "2022-09-13T09:38:31.899787Z",
          "shell.execute_reply": "2022-09-13T09:38:31.924924Z"
        },
        "trusted": true,
        "colab": {
          "base_uri": "https://localhost:8080/",
          "height": 268
        }
      },
      "execution_count": 70,
      "outputs": [
        {
          "output_type": "execute_result",
          "data": {
            "text/plain": [
              "  CUST_ID      BALANCE  BALANCE_FREQUENCY  PURCHASES  ONEOFF_PURCHASES  \\\n",
              "0  C10001    40.900749           0.818182      95.40              0.00   \n",
              "1  C10002  3202.467416           0.909091       0.00              0.00   \n",
              "2  C10003  2495.148862           1.000000     773.17            773.17   \n",
              "3  C10004  1666.670542           0.636364    1499.00           1499.00   \n",
              "4  C10005   817.714335           1.000000      16.00             16.00   \n",
              "\n",
              "   INSTALLMENTS_PURCHASES  CASH_ADVANCE  PURCHASES_FREQUENCY  \\\n",
              "0                    95.4      0.000000             0.166667   \n",
              "1                     0.0   6442.945483             0.000000   \n",
              "2                     0.0      0.000000             1.000000   \n",
              "3                     0.0    205.788017             0.083333   \n",
              "4                     0.0      0.000000             0.083333   \n",
              "\n",
              "   ONEOFF_PURCHASES_FREQUENCY  PURCHASES_INSTALLMENTS_FREQUENCY  \\\n",
              "0                    0.000000                          0.083333   \n",
              "1                    0.000000                          0.000000   \n",
              "2                    1.000000                          0.000000   \n",
              "3                    0.083333                          0.000000   \n",
              "4                    0.083333                          0.000000   \n",
              "\n",
              "   CASH_ADVANCE_FREQUENCY  CASH_ADVANCE_TRX  PURCHASES_TRX  CREDIT_LIMIT  \\\n",
              "0                0.000000                 0              2        1000.0   \n",
              "1                0.250000                 4              0        7000.0   \n",
              "2                0.000000                 0             12        7500.0   \n",
              "3                0.083333                 1              1        7500.0   \n",
              "4                0.000000                 0              1        1200.0   \n",
              "\n",
              "      PAYMENTS  MINIMUM_PAYMENTS  PRC_FULL_PAYMENT  TENURE  \n",
              "0   201.802084        139.509787          0.000000      12  \n",
              "1  4103.032597       1072.340217          0.222222      12  \n",
              "2   622.066742        627.284787          0.000000      12  \n",
              "3     0.000000        864.206542          0.000000      12  \n",
              "4   678.334763        244.791237          0.000000      12  "
            ],
            "text/html": [
              "\n",
              "  <div id=\"df-676e3a11-9476-4ce6-8f2b-c060e02b5f47\">\n",
              "    <div class=\"colab-df-container\">\n",
              "      <div>\n",
              "<style scoped>\n",
              "    .dataframe tbody tr th:only-of-type {\n",
              "        vertical-align: middle;\n",
              "    }\n",
              "\n",
              "    .dataframe tbody tr th {\n",
              "        vertical-align: top;\n",
              "    }\n",
              "\n",
              "    .dataframe thead th {\n",
              "        text-align: right;\n",
              "    }\n",
              "</style>\n",
              "<table border=\"1\" class=\"dataframe\">\n",
              "  <thead>\n",
              "    <tr style=\"text-align: right;\">\n",
              "      <th></th>\n",
              "      <th>CUST_ID</th>\n",
              "      <th>BALANCE</th>\n",
              "      <th>BALANCE_FREQUENCY</th>\n",
              "      <th>PURCHASES</th>\n",
              "      <th>ONEOFF_PURCHASES</th>\n",
              "      <th>INSTALLMENTS_PURCHASES</th>\n",
              "      <th>CASH_ADVANCE</th>\n",
              "      <th>PURCHASES_FREQUENCY</th>\n",
              "      <th>ONEOFF_PURCHASES_FREQUENCY</th>\n",
              "      <th>PURCHASES_INSTALLMENTS_FREQUENCY</th>\n",
              "      <th>CASH_ADVANCE_FREQUENCY</th>\n",
              "      <th>CASH_ADVANCE_TRX</th>\n",
              "      <th>PURCHASES_TRX</th>\n",
              "      <th>CREDIT_LIMIT</th>\n",
              "      <th>PAYMENTS</th>\n",
              "      <th>MINIMUM_PAYMENTS</th>\n",
              "      <th>PRC_FULL_PAYMENT</th>\n",
              "      <th>TENURE</th>\n",
              "    </tr>\n",
              "  </thead>\n",
              "  <tbody>\n",
              "    <tr>\n",
              "      <th>0</th>\n",
              "      <td>C10001</td>\n",
              "      <td>40.900749</td>\n",
              "      <td>0.818182</td>\n",
              "      <td>95.40</td>\n",
              "      <td>0.00</td>\n",
              "      <td>95.4</td>\n",
              "      <td>0.000000</td>\n",
              "      <td>0.166667</td>\n",
              "      <td>0.000000</td>\n",
              "      <td>0.083333</td>\n",
              "      <td>0.000000</td>\n",
              "      <td>0</td>\n",
              "      <td>2</td>\n",
              "      <td>1000.0</td>\n",
              "      <td>201.802084</td>\n",
              "      <td>139.509787</td>\n",
              "      <td>0.000000</td>\n",
              "      <td>12</td>\n",
              "    </tr>\n",
              "    <tr>\n",
              "      <th>1</th>\n",
              "      <td>C10002</td>\n",
              "      <td>3202.467416</td>\n",
              "      <td>0.909091</td>\n",
              "      <td>0.00</td>\n",
              "      <td>0.00</td>\n",
              "      <td>0.0</td>\n",
              "      <td>6442.945483</td>\n",
              "      <td>0.000000</td>\n",
              "      <td>0.000000</td>\n",
              "      <td>0.000000</td>\n",
              "      <td>0.250000</td>\n",
              "      <td>4</td>\n",
              "      <td>0</td>\n",
              "      <td>7000.0</td>\n",
              "      <td>4103.032597</td>\n",
              "      <td>1072.340217</td>\n",
              "      <td>0.222222</td>\n",
              "      <td>12</td>\n",
              "    </tr>\n",
              "    <tr>\n",
              "      <th>2</th>\n",
              "      <td>C10003</td>\n",
              "      <td>2495.148862</td>\n",
              "      <td>1.000000</td>\n",
              "      <td>773.17</td>\n",
              "      <td>773.17</td>\n",
              "      <td>0.0</td>\n",
              "      <td>0.000000</td>\n",
              "      <td>1.000000</td>\n",
              "      <td>1.000000</td>\n",
              "      <td>0.000000</td>\n",
              "      <td>0.000000</td>\n",
              "      <td>0</td>\n",
              "      <td>12</td>\n",
              "      <td>7500.0</td>\n",
              "      <td>622.066742</td>\n",
              "      <td>627.284787</td>\n",
              "      <td>0.000000</td>\n",
              "      <td>12</td>\n",
              "    </tr>\n",
              "    <tr>\n",
              "      <th>3</th>\n",
              "      <td>C10004</td>\n",
              "      <td>1666.670542</td>\n",
              "      <td>0.636364</td>\n",
              "      <td>1499.00</td>\n",
              "      <td>1499.00</td>\n",
              "      <td>0.0</td>\n",
              "      <td>205.788017</td>\n",
              "      <td>0.083333</td>\n",
              "      <td>0.083333</td>\n",
              "      <td>0.000000</td>\n",
              "      <td>0.083333</td>\n",
              "      <td>1</td>\n",
              "      <td>1</td>\n",
              "      <td>7500.0</td>\n",
              "      <td>0.000000</td>\n",
              "      <td>864.206542</td>\n",
              "      <td>0.000000</td>\n",
              "      <td>12</td>\n",
              "    </tr>\n",
              "    <tr>\n",
              "      <th>4</th>\n",
              "      <td>C10005</td>\n",
              "      <td>817.714335</td>\n",
              "      <td>1.000000</td>\n",
              "      <td>16.00</td>\n",
              "      <td>16.00</td>\n",
              "      <td>0.0</td>\n",
              "      <td>0.000000</td>\n",
              "      <td>0.083333</td>\n",
              "      <td>0.083333</td>\n",
              "      <td>0.000000</td>\n",
              "      <td>0.000000</td>\n",
              "      <td>0</td>\n",
              "      <td>1</td>\n",
              "      <td>1200.0</td>\n",
              "      <td>678.334763</td>\n",
              "      <td>244.791237</td>\n",
              "      <td>0.000000</td>\n",
              "      <td>12</td>\n",
              "    </tr>\n",
              "  </tbody>\n",
              "</table>\n",
              "</div>\n",
              "      <button class=\"colab-df-convert\" onclick=\"convertToInteractive('df-676e3a11-9476-4ce6-8f2b-c060e02b5f47')\"\n",
              "              title=\"Convert this dataframe to an interactive table.\"\n",
              "              style=\"display:none;\">\n",
              "        \n",
              "  <svg xmlns=\"http://www.w3.org/2000/svg\" height=\"24px\"viewBox=\"0 0 24 24\"\n",
              "       width=\"24px\">\n",
              "    <path d=\"M0 0h24v24H0V0z\" fill=\"none\"/>\n",
              "    <path d=\"M18.56 5.44l.94 2.06.94-2.06 2.06-.94-2.06-.94-.94-2.06-.94 2.06-2.06.94zm-11 1L8.5 8.5l.94-2.06 2.06-.94-2.06-.94L8.5 2.5l-.94 2.06-2.06.94zm10 10l.94 2.06.94-2.06 2.06-.94-2.06-.94-.94-2.06-.94 2.06-2.06.94z\"/><path d=\"M17.41 7.96l-1.37-1.37c-.4-.4-.92-.59-1.43-.59-.52 0-1.04.2-1.43.59L10.3 9.45l-7.72 7.72c-.78.78-.78 2.05 0 2.83L4 21.41c.39.39.9.59 1.41.59.51 0 1.02-.2 1.41-.59l7.78-7.78 2.81-2.81c.8-.78.8-2.07 0-2.86zM5.41 20L4 18.59l7.72-7.72 1.47 1.35L5.41 20z\"/>\n",
              "  </svg>\n",
              "      </button>\n",
              "      \n",
              "  <style>\n",
              "    .colab-df-container {\n",
              "      display:flex;\n",
              "      flex-wrap:wrap;\n",
              "      gap: 12px;\n",
              "    }\n",
              "\n",
              "    .colab-df-convert {\n",
              "      background-color: #E8F0FE;\n",
              "      border: none;\n",
              "      border-radius: 50%;\n",
              "      cursor: pointer;\n",
              "      display: none;\n",
              "      fill: #1967D2;\n",
              "      height: 32px;\n",
              "      padding: 0 0 0 0;\n",
              "      width: 32px;\n",
              "    }\n",
              "\n",
              "    .colab-df-convert:hover {\n",
              "      background-color: #E2EBFA;\n",
              "      box-shadow: 0px 1px 2px rgba(60, 64, 67, 0.3), 0px 1px 3px 1px rgba(60, 64, 67, 0.15);\n",
              "      fill: #174EA6;\n",
              "    }\n",
              "\n",
              "    [theme=dark] .colab-df-convert {\n",
              "      background-color: #3B4455;\n",
              "      fill: #D2E3FC;\n",
              "    }\n",
              "\n",
              "    [theme=dark] .colab-df-convert:hover {\n",
              "      background-color: #434B5C;\n",
              "      box-shadow: 0px 1px 3px 1px rgba(0, 0, 0, 0.15);\n",
              "      filter: drop-shadow(0px 1px 2px rgba(0, 0, 0, 0.3));\n",
              "      fill: #FFFFFF;\n",
              "    }\n",
              "  </style>\n",
              "\n",
              "      <script>\n",
              "        const buttonEl =\n",
              "          document.querySelector('#df-676e3a11-9476-4ce6-8f2b-c060e02b5f47 button.colab-df-convert');\n",
              "        buttonEl.style.display =\n",
              "          google.colab.kernel.accessAllowed ? 'block' : 'none';\n",
              "\n",
              "        async function convertToInteractive(key) {\n",
              "          const element = document.querySelector('#df-676e3a11-9476-4ce6-8f2b-c060e02b5f47');\n",
              "          const dataTable =\n",
              "            await google.colab.kernel.invokeFunction('convertToInteractive',\n",
              "                                                     [key], {});\n",
              "          if (!dataTable) return;\n",
              "\n",
              "          const docLinkHtml = 'Like what you see? Visit the ' +\n",
              "            '<a target=\"_blank\" href=https://colab.research.google.com/notebooks/data_table.ipynb>data table notebook</a>'\n",
              "            + ' to learn more about interactive tables.';\n",
              "          element.innerHTML = '';\n",
              "          dataTable['output_type'] = 'display_data';\n",
              "          await google.colab.output.renderOutput(dataTable, element);\n",
              "          const docLink = document.createElement('div');\n",
              "          docLink.innerHTML = docLinkHtml;\n",
              "          element.appendChild(docLink);\n",
              "        }\n",
              "      </script>\n",
              "    </div>\n",
              "  </div>\n",
              "  "
            ]
          },
          "metadata": {},
          "execution_count": 70
        }
      ]
    },
    {
      "cell_type": "code",
      "source": [
        "dataset = dataset.drop(columns='CUST_ID')"
      ],
      "metadata": {
        "execution": {
          "iopub.status.busy": "2022-09-13T09:38:31.927050Z",
          "iopub.execute_input": "2022-09-13T09:38:31.927546Z",
          "iopub.status.idle": "2022-09-13T09:38:31.933310Z",
          "shell.execute_reply.started": "2022-09-13T09:38:31.927513Z",
          "shell.execute_reply": "2022-09-13T09:38:31.932304Z"
        },
        "trusted": true,
        "id": "K6mHO3MfQBCv"
      },
      "execution_count": 71,
      "outputs": []
    },
    {
      "cell_type": "code",
      "source": [
        "dataset.head()"
      ],
      "metadata": {
        "execution": {
          "iopub.status.busy": "2022-09-13T09:38:31.934816Z",
          "iopub.execute_input": "2022-09-13T09:38:31.935445Z",
          "iopub.status.idle": "2022-09-13T09:38:31.964006Z",
          "shell.execute_reply.started": "2022-09-13T09:38:31.935392Z",
          "shell.execute_reply": "2022-09-13T09:38:31.963138Z"
        },
        "trusted": true,
        "colab": {
          "base_uri": "https://localhost:8080/",
          "height": 268
        },
        "id": "TKGlsJ_oQBCv",
        "outputId": "44dced14-08e0-44eb-9f54-ac6fd5fad6fa"
      },
      "execution_count": 72,
      "outputs": [
        {
          "output_type": "execute_result",
          "data": {
            "text/plain": [
              "       BALANCE  BALANCE_FREQUENCY  PURCHASES  ONEOFF_PURCHASES  \\\n",
              "0    40.900749           0.818182      95.40              0.00   \n",
              "1  3202.467416           0.909091       0.00              0.00   \n",
              "2  2495.148862           1.000000     773.17            773.17   \n",
              "3  1666.670542           0.636364    1499.00           1499.00   \n",
              "4   817.714335           1.000000      16.00             16.00   \n",
              "\n",
              "   INSTALLMENTS_PURCHASES  CASH_ADVANCE  PURCHASES_FREQUENCY  \\\n",
              "0                    95.4      0.000000             0.166667   \n",
              "1                     0.0   6442.945483             0.000000   \n",
              "2                     0.0      0.000000             1.000000   \n",
              "3                     0.0    205.788017             0.083333   \n",
              "4                     0.0      0.000000             0.083333   \n",
              "\n",
              "   ONEOFF_PURCHASES_FREQUENCY  PURCHASES_INSTALLMENTS_FREQUENCY  \\\n",
              "0                    0.000000                          0.083333   \n",
              "1                    0.000000                          0.000000   \n",
              "2                    1.000000                          0.000000   \n",
              "3                    0.083333                          0.000000   \n",
              "4                    0.083333                          0.000000   \n",
              "\n",
              "   CASH_ADVANCE_FREQUENCY  CASH_ADVANCE_TRX  PURCHASES_TRX  CREDIT_LIMIT  \\\n",
              "0                0.000000                 0              2        1000.0   \n",
              "1                0.250000                 4              0        7000.0   \n",
              "2                0.000000                 0             12        7500.0   \n",
              "3                0.083333                 1              1        7500.0   \n",
              "4                0.000000                 0              1        1200.0   \n",
              "\n",
              "      PAYMENTS  MINIMUM_PAYMENTS  PRC_FULL_PAYMENT  TENURE  \n",
              "0   201.802084        139.509787          0.000000      12  \n",
              "1  4103.032597       1072.340217          0.222222      12  \n",
              "2   622.066742        627.284787          0.000000      12  \n",
              "3     0.000000        864.206542          0.000000      12  \n",
              "4   678.334763        244.791237          0.000000      12  "
            ],
            "text/html": [
              "\n",
              "  <div id=\"df-555e61c2-eaad-4a96-bcf8-b740579612fb\">\n",
              "    <div class=\"colab-df-container\">\n",
              "      <div>\n",
              "<style scoped>\n",
              "    .dataframe tbody tr th:only-of-type {\n",
              "        vertical-align: middle;\n",
              "    }\n",
              "\n",
              "    .dataframe tbody tr th {\n",
              "        vertical-align: top;\n",
              "    }\n",
              "\n",
              "    .dataframe thead th {\n",
              "        text-align: right;\n",
              "    }\n",
              "</style>\n",
              "<table border=\"1\" class=\"dataframe\">\n",
              "  <thead>\n",
              "    <tr style=\"text-align: right;\">\n",
              "      <th></th>\n",
              "      <th>BALANCE</th>\n",
              "      <th>BALANCE_FREQUENCY</th>\n",
              "      <th>PURCHASES</th>\n",
              "      <th>ONEOFF_PURCHASES</th>\n",
              "      <th>INSTALLMENTS_PURCHASES</th>\n",
              "      <th>CASH_ADVANCE</th>\n",
              "      <th>PURCHASES_FREQUENCY</th>\n",
              "      <th>ONEOFF_PURCHASES_FREQUENCY</th>\n",
              "      <th>PURCHASES_INSTALLMENTS_FREQUENCY</th>\n",
              "      <th>CASH_ADVANCE_FREQUENCY</th>\n",
              "      <th>CASH_ADVANCE_TRX</th>\n",
              "      <th>PURCHASES_TRX</th>\n",
              "      <th>CREDIT_LIMIT</th>\n",
              "      <th>PAYMENTS</th>\n",
              "      <th>MINIMUM_PAYMENTS</th>\n",
              "      <th>PRC_FULL_PAYMENT</th>\n",
              "      <th>TENURE</th>\n",
              "    </tr>\n",
              "  </thead>\n",
              "  <tbody>\n",
              "    <tr>\n",
              "      <th>0</th>\n",
              "      <td>40.900749</td>\n",
              "      <td>0.818182</td>\n",
              "      <td>95.40</td>\n",
              "      <td>0.00</td>\n",
              "      <td>95.4</td>\n",
              "      <td>0.000000</td>\n",
              "      <td>0.166667</td>\n",
              "      <td>0.000000</td>\n",
              "      <td>0.083333</td>\n",
              "      <td>0.000000</td>\n",
              "      <td>0</td>\n",
              "      <td>2</td>\n",
              "      <td>1000.0</td>\n",
              "      <td>201.802084</td>\n",
              "      <td>139.509787</td>\n",
              "      <td>0.000000</td>\n",
              "      <td>12</td>\n",
              "    </tr>\n",
              "    <tr>\n",
              "      <th>1</th>\n",
              "      <td>3202.467416</td>\n",
              "      <td>0.909091</td>\n",
              "      <td>0.00</td>\n",
              "      <td>0.00</td>\n",
              "      <td>0.0</td>\n",
              "      <td>6442.945483</td>\n",
              "      <td>0.000000</td>\n",
              "      <td>0.000000</td>\n",
              "      <td>0.000000</td>\n",
              "      <td>0.250000</td>\n",
              "      <td>4</td>\n",
              "      <td>0</td>\n",
              "      <td>7000.0</td>\n",
              "      <td>4103.032597</td>\n",
              "      <td>1072.340217</td>\n",
              "      <td>0.222222</td>\n",
              "      <td>12</td>\n",
              "    </tr>\n",
              "    <tr>\n",
              "      <th>2</th>\n",
              "      <td>2495.148862</td>\n",
              "      <td>1.000000</td>\n",
              "      <td>773.17</td>\n",
              "      <td>773.17</td>\n",
              "      <td>0.0</td>\n",
              "      <td>0.000000</td>\n",
              "      <td>1.000000</td>\n",
              "      <td>1.000000</td>\n",
              "      <td>0.000000</td>\n",
              "      <td>0.000000</td>\n",
              "      <td>0</td>\n",
              "      <td>12</td>\n",
              "      <td>7500.0</td>\n",
              "      <td>622.066742</td>\n",
              "      <td>627.284787</td>\n",
              "      <td>0.000000</td>\n",
              "      <td>12</td>\n",
              "    </tr>\n",
              "    <tr>\n",
              "      <th>3</th>\n",
              "      <td>1666.670542</td>\n",
              "      <td>0.636364</td>\n",
              "      <td>1499.00</td>\n",
              "      <td>1499.00</td>\n",
              "      <td>0.0</td>\n",
              "      <td>205.788017</td>\n",
              "      <td>0.083333</td>\n",
              "      <td>0.083333</td>\n",
              "      <td>0.000000</td>\n",
              "      <td>0.083333</td>\n",
              "      <td>1</td>\n",
              "      <td>1</td>\n",
              "      <td>7500.0</td>\n",
              "      <td>0.000000</td>\n",
              "      <td>864.206542</td>\n",
              "      <td>0.000000</td>\n",
              "      <td>12</td>\n",
              "    </tr>\n",
              "    <tr>\n",
              "      <th>4</th>\n",
              "      <td>817.714335</td>\n",
              "      <td>1.000000</td>\n",
              "      <td>16.00</td>\n",
              "      <td>16.00</td>\n",
              "      <td>0.0</td>\n",
              "      <td>0.000000</td>\n",
              "      <td>0.083333</td>\n",
              "      <td>0.083333</td>\n",
              "      <td>0.000000</td>\n",
              "      <td>0.000000</td>\n",
              "      <td>0</td>\n",
              "      <td>1</td>\n",
              "      <td>1200.0</td>\n",
              "      <td>678.334763</td>\n",
              "      <td>244.791237</td>\n",
              "      <td>0.000000</td>\n",
              "      <td>12</td>\n",
              "    </tr>\n",
              "  </tbody>\n",
              "</table>\n",
              "</div>\n",
              "      <button class=\"colab-df-convert\" onclick=\"convertToInteractive('df-555e61c2-eaad-4a96-bcf8-b740579612fb')\"\n",
              "              title=\"Convert this dataframe to an interactive table.\"\n",
              "              style=\"display:none;\">\n",
              "        \n",
              "  <svg xmlns=\"http://www.w3.org/2000/svg\" height=\"24px\"viewBox=\"0 0 24 24\"\n",
              "       width=\"24px\">\n",
              "    <path d=\"M0 0h24v24H0V0z\" fill=\"none\"/>\n",
              "    <path d=\"M18.56 5.44l.94 2.06.94-2.06 2.06-.94-2.06-.94-.94-2.06-.94 2.06-2.06.94zm-11 1L8.5 8.5l.94-2.06 2.06-.94-2.06-.94L8.5 2.5l-.94 2.06-2.06.94zm10 10l.94 2.06.94-2.06 2.06-.94-2.06-.94-.94-2.06-.94 2.06-2.06.94z\"/><path d=\"M17.41 7.96l-1.37-1.37c-.4-.4-.92-.59-1.43-.59-.52 0-1.04.2-1.43.59L10.3 9.45l-7.72 7.72c-.78.78-.78 2.05 0 2.83L4 21.41c.39.39.9.59 1.41.59.51 0 1.02-.2 1.41-.59l7.78-7.78 2.81-2.81c.8-.78.8-2.07 0-2.86zM5.41 20L4 18.59l7.72-7.72 1.47 1.35L5.41 20z\"/>\n",
              "  </svg>\n",
              "      </button>\n",
              "      \n",
              "  <style>\n",
              "    .colab-df-container {\n",
              "      display:flex;\n",
              "      flex-wrap:wrap;\n",
              "      gap: 12px;\n",
              "    }\n",
              "\n",
              "    .colab-df-convert {\n",
              "      background-color: #E8F0FE;\n",
              "      border: none;\n",
              "      border-radius: 50%;\n",
              "      cursor: pointer;\n",
              "      display: none;\n",
              "      fill: #1967D2;\n",
              "      height: 32px;\n",
              "      padding: 0 0 0 0;\n",
              "      width: 32px;\n",
              "    }\n",
              "\n",
              "    .colab-df-convert:hover {\n",
              "      background-color: #E2EBFA;\n",
              "      box-shadow: 0px 1px 2px rgba(60, 64, 67, 0.3), 0px 1px 3px 1px rgba(60, 64, 67, 0.15);\n",
              "      fill: #174EA6;\n",
              "    }\n",
              "\n",
              "    [theme=dark] .colab-df-convert {\n",
              "      background-color: #3B4455;\n",
              "      fill: #D2E3FC;\n",
              "    }\n",
              "\n",
              "    [theme=dark] .colab-df-convert:hover {\n",
              "      background-color: #434B5C;\n",
              "      box-shadow: 0px 1px 3px 1px rgba(0, 0, 0, 0.15);\n",
              "      filter: drop-shadow(0px 1px 2px rgba(0, 0, 0, 0.3));\n",
              "      fill: #FFFFFF;\n",
              "    }\n",
              "  </style>\n",
              "\n",
              "      <script>\n",
              "        const buttonEl =\n",
              "          document.querySelector('#df-555e61c2-eaad-4a96-bcf8-b740579612fb button.colab-df-convert');\n",
              "        buttonEl.style.display =\n",
              "          google.colab.kernel.accessAllowed ? 'block' : 'none';\n",
              "\n",
              "        async function convertToInteractive(key) {\n",
              "          const element = document.querySelector('#df-555e61c2-eaad-4a96-bcf8-b740579612fb');\n",
              "          const dataTable =\n",
              "            await google.colab.kernel.invokeFunction('convertToInteractive',\n",
              "                                                     [key], {});\n",
              "          if (!dataTable) return;\n",
              "\n",
              "          const docLinkHtml = 'Like what you see? Visit the ' +\n",
              "            '<a target=\"_blank\" href=https://colab.research.google.com/notebooks/data_table.ipynb>data table notebook</a>'\n",
              "            + ' to learn more about interactive tables.';\n",
              "          element.innerHTML = '';\n",
              "          dataTable['output_type'] = 'display_data';\n",
              "          await google.colab.output.renderOutput(dataTable, element);\n",
              "          const docLink = document.createElement('div');\n",
              "          docLink.innerHTML = docLinkHtml;\n",
              "          element.appendChild(docLink);\n",
              "        }\n",
              "      </script>\n",
              "    </div>\n",
              "  </div>\n",
              "  "
            ]
          },
          "metadata": {},
          "execution_count": 72
        }
      ]
    },
    {
      "cell_type": "code",
      "source": [
        "# categorical columns\n",
        "dataset.select_dtypes(include='object').columns"
      ],
      "metadata": {
        "id": "2sZwLMRL96Nn",
        "outputId": "8a80f6eb-deb0-4ae1-89ab-09f605ea95e0",
        "execution": {
          "iopub.status.busy": "2022-09-13T09:38:31.965434Z",
          "iopub.execute_input": "2022-09-13T09:38:31.966022Z",
          "iopub.status.idle": "2022-09-13T09:38:31.974660Z",
          "shell.execute_reply.started": "2022-09-13T09:38:31.965986Z",
          "shell.execute_reply": "2022-09-13T09:38:31.973590Z"
        },
        "trusted": true,
        "colab": {
          "base_uri": "https://localhost:8080/"
        }
      },
      "execution_count": 73,
      "outputs": [
        {
          "output_type": "execute_result",
          "data": {
            "text/plain": [
              "Index([], dtype='object')"
            ]
          },
          "metadata": {},
          "execution_count": 73
        }
      ]
    },
    {
      "cell_type": "code",
      "source": [
        "len(# categorical columns\n",
        "dataset.select_dtypes(include='object').columns)"
      ],
      "metadata": {
        "id": "yQFJp6up3vR8",
        "outputId": "49c542f8-d72c-4e44-93d3-fb9732b801de",
        "execution": {
          "iopub.status.busy": "2022-09-13T09:38:31.976513Z",
          "iopub.execute_input": "2022-09-13T09:38:31.977321Z",
          "iopub.status.idle": "2022-09-13T09:38:31.986321Z",
          "shell.execute_reply.started": "2022-09-13T09:38:31.977286Z",
          "shell.execute_reply": "2022-09-13T09:38:31.985191Z"
        },
        "trusted": true,
        "colab": {
          "base_uri": "https://localhost:8080/"
        }
      },
      "execution_count": 74,
      "outputs": [
        {
          "output_type": "execute_result",
          "data": {
            "text/plain": [
              "0"
            ]
          },
          "metadata": {},
          "execution_count": 74
        }
      ]
    },
    {
      "cell_type": "markdown",
      "source": [
        "### Correlation matrix "
      ],
      "metadata": {
        "id": "BUwIK3SpAE-F"
      }
    },
    {
      "cell_type": "code",
      "source": [
        "corr = dataset.corr()"
      ],
      "metadata": {
        "id": "1BfUjjiO3vU1",
        "execution": {
          "iopub.status.busy": "2022-09-13T09:38:31.987959Z",
          "iopub.execute_input": "2022-09-13T09:38:31.989168Z",
          "iopub.status.idle": "2022-09-13T09:38:32.006464Z",
          "shell.execute_reply.started": "2022-09-13T09:38:31.989121Z",
          "shell.execute_reply": "2022-09-13T09:38:32.005025Z"
        },
        "trusted": true
      },
      "execution_count": 75,
      "outputs": []
    },
    {
      "cell_type": "code",
      "source": [
        "# heatmap \n",
        "plt.figure(figsize=(16, 9))\n",
        "ax = sns.heatmap(corr, annot=True, cmap='coolwarm')"
      ],
      "metadata": {
        "id": "NFv4waHUAReo",
        "outputId": "f26f6e7e-0f9c-467b-e910-121571086612",
        "execution": {
          "iopub.status.busy": "2022-09-13T09:38:32.008181Z",
          "iopub.execute_input": "2022-09-13T09:38:32.008962Z",
          "iopub.status.idle": "2022-09-13T09:38:33.857619Z",
          "shell.execute_reply.started": "2022-09-13T09:38:32.008915Z",
          "shell.execute_reply": "2022-09-13T09:38:33.856781Z"
        },
        "trusted": true,
        "colab": {
          "base_uri": "https://localhost:8080/",
          "height": 736
        }
      },
      "execution_count": 76,
      "outputs": [
        {
          "output_type": "display_data",
          "data": {
            "text/plain": [
              "<Figure size 1152x648 with 2 Axes>"
            ],
            "image/png": "[encoded data removed]"
          },
          "metadata": {
            "needs_background": "light"
          }
        }
      ]
    },
    {
      "cell_type": "code",
      "source": [
        "fig = plt.figure(figsize=(20, 10)) # sets the size of the 4 plot with width as 10 and height as 10\n",
        "for i,columns in enumerate(dataset.columns, 1): \n",
        "    ax = plt.subplot(6,3,i) # creates 3 subplots in one single row\n",
        "    sns.boxplot(data = dataset, x=dataset[columns], ) # creates box plots for each feature in df_cont dataset\n",
        "    ax.set_xlabel(None) # removes the labels on x-axis\n",
        "    ax.set_title(f'Distribution of {columns}') # adds a title to each subplot\n",
        "    plt.tight_layout(w_pad=3) # adds padding between the subplots\n",
        "plt.show()"
      ],
      "metadata": {
        "id": "eP_iPIawgG9b",
        "outputId": "f71775fd-1320-458d-8874-8d2ae1e0c1d0",
        "execution": {
          "iopub.status.busy": "2022-09-13T09:38:33.858994Z",
          "iopub.execute_input": "2022-09-13T09:38:33.859894Z",
          "iopub.status.idle": "2022-09-13T09:38:36.841578Z",
          "shell.execute_reply.started": "2022-09-13T09:38:33.859845Z",
          "shell.execute_reply": "2022-09-13T09:38:36.840226Z"
        },
        "trusted": true,
        "colab": {
          "base_uri": "https://localhost:8080/",
          "height": 702
        }
      },
      "execution_count": 77,
      "outputs": [
        {
          "output_type": "display_data",
          "data": {
            "text/plain": [
              "<Figure size 1440x720 with 17 Axes>"
            ],
            "image/png": "[encoded data removed]"
          },
          "metadata": {
            "needs_background": "light"
          }
        }
      ]
    },
    {
      "cell_type": "markdown",
      "source": [
        "### Splitting the dataset"
      ],
      "metadata": {
        "id": "ZcIU9VFjA2lN"
      }
    },
    {
      "cell_type": "code",
      "source": [
        " # only independent variables not target variable"
      ],
      "metadata": {
        "id": "SnrSzJk7ARhl",
        "execution": {
          "iopub.status.busy": "2022-09-13T09:38:36.843435Z",
          "iopub.execute_input": "2022-09-13T09:38:36.845263Z",
          "iopub.status.idle": "2022-09-13T09:38:36.851331Z",
          "shell.execute_reply.started": "2022-09-13T09:38:36.845202Z",
          "shell.execute_reply": "2022-09-13T09:38:36.849521Z"
        },
        "trusted": true
      },
      "execution_count": 78,
      "outputs": []
    },
    {
      "cell_type": "markdown",
      "source": [
        "### Dealing with Outliers\n",
        "By dropping outliers we can lose many row as there are too many outliers in dataset. So making ranges to deal with extreme values. "
      ],
      "metadata": {
        "id": "sQf1siXKQBCx"
      }
    },
    {
      "cell_type": "code",
      "source": [
        "data = dataset"
      ],
      "metadata": {
        "execution": {
          "iopub.status.busy": "2022-09-13T09:38:36.853734Z",
          "iopub.execute_input": "2022-09-13T09:38:36.854513Z",
          "iopub.status.idle": "2022-09-13T09:38:36.867320Z",
          "shell.execute_reply.started": "2022-09-13T09:38:36.854450Z",
          "shell.execute_reply": "2022-09-13T09:38:36.866136Z"
        },
        "trusted": true,
        "id": "YAewBbxGQBCx"
      },
      "execution_count": 79,
      "outputs": []
    },
    {
      "cell_type": "code",
      "source": [
        "columns=['BALANCE', 'PURCHASES', 'ONEOFF_PURCHASES', 'INSTALLMENTS_PURCHASES', 'CASH_ADVANCE', 'CREDIT_LIMIT',\n",
        "        'PAYMENTS', 'MINIMUM_PAYMENTS']\n",
        "\n",
        "for c in columns:\n",
        "    \n",
        "    Range=c+'_RANGE'\n",
        "    data[Range]=0        \n",
        "    data.loc[((data[c]>0)&(data[c]<=500)),Range]=1\n",
        "    data.loc[((data[c]>500)&(data[c]<=1000)),Range]=2\n",
        "    data.loc[((data[c]>1000)&(data[c]<=3000)),Range]=3\n",
        "    data.loc[((data[c]>3000)&(data[c]<=5000)),Range]=4\n",
        "    data.loc[((data[c]>5000)&(data[c]<=10000)),Range]=5\n",
        "    data.loc[((data[c]>10000)),Range]=6\n",
        " "
      ],
      "metadata": {
        "execution": {
          "iopub.status.busy": "2022-09-13T09:38:36.868952Z",
          "iopub.execute_input": "2022-09-13T09:38:36.869543Z",
          "iopub.status.idle": "2022-09-13T09:38:36.934956Z",
          "shell.execute_reply.started": "2022-09-13T09:38:36.869508Z",
          "shell.execute_reply": "2022-09-13T09:38:36.934002Z"
        },
        "trusted": true,
        "id": "xRa2gdOZQBCx"
      },
      "execution_count": 80,
      "outputs": []
    },
    {
      "cell_type": "code",
      "source": [
        "data.head()"
      ],
      "metadata": {
        "execution": {
          "iopub.status.busy": "2022-09-13T09:38:36.936356Z",
          "iopub.execute_input": "2022-09-13T09:38:36.937078Z",
          "iopub.status.idle": "2022-09-13T09:38:36.961832Z",
          "shell.execute_reply.started": "2022-09-13T09:38:36.937040Z",
          "shell.execute_reply": "2022-09-13T09:38:36.960737Z"
        },
        "trusted": true,
        "colab": {
          "base_uri": "https://localhost:8080/",
          "height": 297
        },
        "id": "9K6Zk9hFQBCy",
        "outputId": "db5ce4d3-338b-4cb4-bf76-baf3418891d9"
      },
      "execution_count": 81,
      "outputs": [
        {
          "output_type": "execute_result",
          "data": {
            "text/plain": [
              "       BALANCE  BALANCE_FREQUENCY  PURCHASES  ONEOFF_PURCHASES  \\\n",
              "0    40.900749           0.818182      95.40              0.00   \n",
              "1  3202.467416           0.909091       0.00              0.00   \n",
              "2  2495.148862           1.000000     773.17            773.17   \n",
              "3  1666.670542           0.636364    1499.00           1499.00   \n",
              "4   817.714335           1.000000      16.00             16.00   \n",
              "\n",
              "   INSTALLMENTS_PURCHASES  CASH_ADVANCE  PURCHASES_FREQUENCY  \\\n",
              "0                    95.4      0.000000             0.166667   \n",
              "1                     0.0   6442.945483             0.000000   \n",
              "2                     0.0      0.000000             1.000000   \n",
              "3                     0.0    205.788017             0.083333   \n",
              "4                     0.0      0.000000             0.083333   \n",
              "\n",
              "   ONEOFF_PURCHASES_FREQUENCY  PURCHASES_INSTALLMENTS_FREQUENCY  \\\n",
              "0                    0.000000                          0.083333   \n",
              "1                    0.000000                          0.000000   \n",
              "2                    1.000000                          0.000000   \n",
              "3                    0.083333                          0.000000   \n",
              "4                    0.083333                          0.000000   \n",
              "\n",
              "   CASH_ADVANCE_FREQUENCY  ...  PRC_FULL_PAYMENT  TENURE  BALANCE_RANGE  \\\n",
              "0                0.000000  ...          0.000000      12              1   \n",
              "1                0.250000  ...          0.222222      12              4   \n",
              "2                0.000000  ...          0.000000      12              3   \n",
              "3                0.083333  ...          0.000000      12              3   \n",
              "4                0.000000  ...          0.000000      12              2   \n",
              "\n",
              "   PURCHASES_RANGE  ONEOFF_PURCHASES_RANGE  INSTALLMENTS_PURCHASES_RANGE  \\\n",
              "0                1                       0                             1   \n",
              "1                0                       0                             0   \n",
              "2                2                       2                             0   \n",
              "3                3                       3                             0   \n",
              "4                1                       1                             0   \n",
              "\n",
              "   CASH_ADVANCE_RANGE  CREDIT_LIMIT_RANGE  PAYMENTS_RANGE  \\\n",
              "0                   0                   2               1   \n",
              "1                   5                   5               4   \n",
              "2                   0                   5               2   \n",
              "3                   1                   5               0   \n",
              "4                   0                   3               2   \n",
              "\n",
              "   MINIMUM_PAYMENTS_RANGE  \n",
              "0                       1  \n",
              "1                       3  \n",
              "2                       2  \n",
              "3                       2  \n",
              "4                       1  \n",
              "\n",
              "[5 rows x 25 columns]"
            ],
            "text/html": [
              "\n",
              "  <div id=\"df-4229d7cd-8ed6-4d7f-82f3-392a8a7932f7\">\n",
              "    <div class=\"colab-df-container\">\n",
              "      <div>\n",
              "<style scoped>\n",
              "    .dataframe tbody tr th:only-of-type {\n",
              "        vertical-align: middle;\n",
              "    }\n",
              "\n",
              "    .dataframe tbody tr th {\n",
              "        vertical-align: top;\n",
              "    }\n",
              "\n",
              "    .dataframe thead th {\n",
              "        text-align: right;\n",
              "    }\n",
              "</style>\n",
              "<table border=\"1\" class=\"dataframe\">\n",
              "  <thead>\n",
              "    <tr style=\"text-align: right;\">\n",
              "      <th></th>\n",
              "      <th>BALANCE</th>\n",
              "      <th>BALANCE_FREQUENCY</th>\n",
              "      <th>PURCHASES</th>\n",
              "      <th>ONEOFF_PURCHASES</th>\n",
              "      <th>INSTALLMENTS_PURCHASES</th>\n",
              "      <th>CASH_ADVANCE</th>\n",
              "      <th>PURCHASES_FREQUENCY</th>\n",
              "      <th>ONEOFF_PURCHASES_FREQUENCY</th>\n",
              "      <th>PURCHASES_INSTALLMENTS_FREQUENCY</th>\n",
              "      <th>CASH_ADVANCE_FREQUENCY</th>\n",
              "      <th>...</th>\n",
              "      <th>PRC_FULL_PAYMENT</th>\n",
              "      <th>TENURE</th>\n",
              "      <th>BALANCE_RANGE</th>\n",
              "      <th>PURCHASES_RANGE</th>\n",
              "      <th>ONEOFF_PURCHASES_RANGE</th>\n",
              "      <th>INSTALLMENTS_PURCHASES_RANGE</th>\n",
              "      <th>CASH_ADVANCE_RANGE</th>\n",
              "      <th>CREDIT_LIMIT_RANGE</th>\n",
              "      <th>PAYMENTS_RANGE</th>\n",
              "      <th>MINIMUM_PAYMENTS_RANGE</th>\n",
              "    </tr>\n",
              "  </thead>\n",
              "  <tbody>\n",
              "    <tr>\n",
              "      <th>0</th>\n",
              "      <td>40.900749</td>\n",
              "      <td>0.818182</td>\n",
              "      <td>95.40</td>\n",
              "      <td>0.00</td>\n",
              "      <td>95.4</td>\n",
              "      <td>0.000000</td>\n",
              "      <td>0.166667</td>\n",
              "      <td>0.000000</td>\n",
              "      <td>0.083333</td>\n",
              "      <td>0.000000</td>\n",
              "      <td>...</td>\n",
              "      <td>0.000000</td>\n",
              "      <td>12</td>\n",
              "      <td>1</td>\n",
              "      <td>1</td>\n",
              "      <td>0</td>\n",
              "      <td>1</td>\n",
              "      <td>0</td>\n",
              "      <td>2</td>\n",
              "      <td>1</td>\n",
              "      <td>1</td>\n",
              "    </tr>\n",
              "    <tr>\n",
              "      <th>1</th>\n",
              "      <td>3202.467416</td>\n",
              "      <td>0.909091</td>\n",
              "      <td>0.00</td>\n",
              "      <td>0.00</td>\n",
              "      <td>0.0</td>\n",
              "      <td>6442.945483</td>\n",
              "      <td>0.000000</td>\n",
              "      <td>0.000000</td>\n",
              "      <td>0.000000</td>\n",
              "      <td>0.250000</td>\n",
              "      <td>...</td>\n",
              "      <td>0.222222</td>\n",
              "      <td>12</td>\n",
              "      <td>4</td>\n",
              "      <td>0</td>\n",
              "      <td>0</td>\n",
              "      <td>0</td>\n",
              "      <td>5</td>\n",
              "      <td>5</td>\n",
              "      <td>4</td>\n",
              "      <td>3</td>\n",
              "    </tr>\n",
              "    <tr>\n",
              "      <th>2</th>\n",
              "      <td>2495.148862</td>\n",
              "      <td>1.000000</td>\n",
              "      <td>773.17</td>\n",
              "      <td>773.17</td>\n",
              "      <td>0.0</td>\n",
              "      <td>0.000000</td>\n",
              "      <td>1.000000</td>\n",
              "      <td>1.000000</td>\n",
              "      <td>0.000000</td>\n",
              "      <td>0.000000</td>\n",
              "      <td>...</td>\n",
              "      <td>0.000000</td>\n",
              "      <td>12</td>\n",
              "      <td>3</td>\n",
              "      <td>2</td>\n",
              "      <td>2</td>\n",
              "      <td>0</td>\n",
              "      <td>0</td>\n",
              "      <td>5</td>\n",
              "      <td>2</td>\n",
              "      <td>2</td>\n",
              "    </tr>\n",
              "    <tr>\n",
              "      <th>3</th>\n",
              "      <td>1666.670542</td>\n",
              "      <td>0.636364</td>\n",
              "      <td>1499.00</td>\n",
              "      <td>1499.00</td>\n",
              "      <td>0.0</td>\n",
              "      <td>205.788017</td>\n",
              "      <td>0.083333</td>\n",
              "      <td>0.083333</td>\n",
              "      <td>0.000000</td>\n",
              "      <td>0.083333</td>\n",
              "      <td>...</td>\n",
              "      <td>0.000000</td>\n",
              "      <td>12</td>\n",
              "      <td>3</td>\n",
              "      <td>3</td>\n",
              "      <td>3</td>\n",
              "      <td>0</td>\n",
              "      <td>1</td>\n",
              "      <td>5</td>\n",
              "      <td>0</td>\n",
              "      <td>2</td>\n",
              "    </tr>\n",
              "    <tr>\n",
              "      <th>4</th>\n",
              "      <td>817.714335</td>\n",
              "      <td>1.000000</td>\n",
              "      <td>16.00</td>\n",
              "      <td>16.00</td>\n",
              "      <td>0.0</td>\n",
              "      <td>0.000000</td>\n",
              "      <td>0.083333</td>\n",
              "      <td>0.083333</td>\n",
              "      <td>0.000000</td>\n",
              "      <td>0.000000</td>\n",
              "      <td>...</td>\n",
              "      <td>0.000000</td>\n",
              "      <td>12</td>\n",
              "      <td>2</td>\n",
              "      <td>1</td>\n",
              "      <td>1</td>\n",
              "      <td>0</td>\n",
              "      <td>0</td>\n",
              "      <td>3</td>\n",
              "      <td>2</td>\n",
              "      <td>1</td>\n",
              "    </tr>\n",
              "  </tbody>\n",
              "</table>\n",
              "<p>5 rows × 25 columns</p>\n",
              "</div>\n",
              "      <button class=\"colab-df-convert\" onclick=\"convertToInteractive('df-4229d7cd-8ed6-4d7f-82f3-392a8a7932f7')\"\n",
              "              title=\"Convert this dataframe to an interactive table.\"\n",
              "              style=\"display:none;\">\n",
              "        \n",
              "  <svg xmlns=\"http://www.w3.org/2000/svg\" height=\"24px\"viewBox=\"0 0 24 24\"\n",
              "       width=\"24px\">\n",
              "    <path d=\"M0 0h24v24H0V0z\" fill=\"none\"/>\n",
              "    <path d=\"M18.56 5.44l.94 2.06.94-2.06 2.06-.94-2.06-.94-.94-2.06-.94 2.06-2.06.94zm-11 1L8.5 8.5l.94-2.06 2.06-.94-2.06-.94L8.5 2.5l-.94 2.06-2.06.94zm10 10l.94 2.06.94-2.06 2.06-.94-2.06-.94-.94-2.06-.94 2.06-2.06.94z\"/><path d=\"M17.41 7.96l-1.37-1.37c-.4-.4-.92-.59-1.43-.59-.52 0-1.04.2-1.43.59L10.3 9.45l-7.72 7.72c-.78.78-.78 2.05 0 2.83L4 21.41c.39.39.9.59 1.41.59.51 0 1.02-.2 1.41-.59l7.78-7.78 2.81-2.81c.8-.78.8-2.07 0-2.86zM5.41 20L4 18.59l7.72-7.72 1.47 1.35L5.41 20z\"/>\n",
              "  </svg>\n",
              "      </button>\n",
              "      \n",
              "  <style>\n",
              "    .colab-df-container {\n",
              "      display:flex;\n",
              "      flex-wrap:wrap;\n",
              "      gap: 12px;\n",
              "    }\n",
              "\n",
              "    .colab-df-convert {\n",
              "      background-color: #E8F0FE;\n",
              "      border: none;\n",
              "      border-radius: 50%;\n",
              "      cursor: pointer;\n",
              "      display: none;\n",
              "      fill: #1967D2;\n",
              "      height: 32px;\n",
              "      padding: 0 0 0 0;\n",
              "      width: 32px;\n",
              "    }\n",
              "\n",
              "    .colab-df-convert:hover {\n",
              "      background-color: #E2EBFA;\n",
              "      box-shadow: 0px 1px 2px rgba(60, 64, 67, 0.3), 0px 1px 3px 1px rgba(60, 64, 67, 0.15);\n",
              "      fill: #174EA6;\n",
              "    }\n",
              "\n",
              "    [theme=dark] .colab-df-convert {\n",
              "      background-color: #3B4455;\n",
              "      fill: #D2E3FC;\n",
              "    }\n",
              "\n",
              "    [theme=dark] .colab-df-convert:hover {\n",
              "      background-color: #434B5C;\n",
              "      box-shadow: 0px 1px 3px 1px rgba(0, 0, 0, 0.15);\n",
              "      filter: drop-shadow(0px 1px 2px rgba(0, 0, 0, 0.3));\n",
              "      fill: #FFFFFF;\n",
              "    }\n",
              "  </style>\n",
              "\n",
              "      <script>\n",
              "        const buttonEl =\n",
              "          document.querySelector('#df-4229d7cd-8ed6-4d7f-82f3-392a8a7932f7 button.colab-df-convert');\n",
              "        buttonEl.style.display =\n",
              "          google.colab.kernel.accessAllowed ? 'block' : 'none';\n",
              "\n",
              "        async function convertToInteractive(key) {\n",
              "          const element = document.querySelector('#df-4229d7cd-8ed6-4d7f-82f3-392a8a7932f7');\n",
              "          const dataTable =\n",
              "            await google.colab.kernel.invokeFunction('convertToInteractive',\n",
              "                                                     [key], {});\n",
              "          if (!dataTable) return;\n",
              "\n",
              "          const docLinkHtml = 'Like what you see? Visit the ' +\n",
              "            '<a target=\"_blank\" href=https://colab.research.google.com/notebooks/data_table.ipynb>data table notebook</a>'\n",
              "            + ' to learn more about interactive tables.';\n",
              "          element.innerHTML = '';\n",
              "          dataTable['output_type'] = 'display_data';\n",
              "          await google.colab.output.renderOutput(dataTable, element);\n",
              "          const docLink = document.createElement('div');\n",
              "          docLink.innerHTML = docLinkHtml;\n",
              "          element.appendChild(docLink);\n",
              "        }\n",
              "      </script>\n",
              "    </div>\n",
              "  </div>\n",
              "  "
            ]
          },
          "metadata": {},
          "execution_count": 81
        }
      ]
    },
    {
      "cell_type": "code",
      "source": [
        "columns=['BALANCE_FREQUENCY', 'PURCHASES_FREQUENCY', 'ONEOFF_PURCHASES_FREQUENCY', 'PURCHASES_INSTALLMENTS_FREQUENCY', \n",
        "         'CASH_ADVANCE_FREQUENCY', 'PRC_FULL_PAYMENT']\n",
        "\n",
        "for c in columns:\n",
        "    \n",
        "    Range=c+'_RANGE'\n",
        "    data[Range]=0\n",
        "    data.loc[((data[c]>0)&(data[c]<=0.1)),Range]=1\n",
        "    data.loc[((data[c]>0.1)&(data[c]<=0.2)),Range]=2\n",
        "    data.loc[((data[c]>0.2)&(data[c]<=0.3)),Range]=3\n",
        "    data.loc[((data[c]>0.3)&(data[c]<=0.4)),Range]=4\n",
        "    data.loc[((data[c]>0.4)&(data[c]<=0.5)),Range]=5\n",
        "    data.loc[((data[c]>0.5)&(data[c]<=0.6)),Range]=6\n",
        "    data.loc[((data[c]>0.6)&(data[c]<=0.7)),Range]=7\n",
        "    data.loc[((data[c]>0.7)&(data[c]<=0.8)),Range]=8\n",
        "    data.loc[((data[c]>0.8)&(data[c]<=0.9)),Range]=9\n",
        "    data.loc[((data[c]>0.9)&(data[c]<=1.0)),Range]=10\n",
        "    "
      ],
      "metadata": {
        "execution": {
          "iopub.status.busy": "2022-09-13T09:38:36.963562Z",
          "iopub.execute_input": "2022-09-13T09:38:36.963930Z",
          "iopub.status.idle": "2022-09-13T09:38:37.029552Z",
          "shell.execute_reply.started": "2022-09-13T09:38:36.963891Z",
          "shell.execute_reply": "2022-09-13T09:38:37.028326Z"
        },
        "trusted": true,
        "id": "bkIIcMagQBCy"
      },
      "execution_count": 82,
      "outputs": []
    },
    {
      "cell_type": "code",
      "source": [
        "columns=['PURCHASES_TRX', 'CASH_ADVANCE_TRX']  \n",
        "\n",
        "for c in columns:\n",
        "    \n",
        "    Range=c+'_RANGE'\n",
        "    data[Range]=0\n",
        "    data.loc[((data[c]>0)&(data[c]<=5)),Range]=1\n",
        "    data.loc[((data[c]>5)&(data[c]<=10)),Range]=2\n",
        "    data.loc[((data[c]>10)&(data[c]<=15)),Range]=3\n",
        "    data.loc[((data[c]>15)&(data[c]<=20)),Range]=4\n",
        "    data.loc[((data[c]>20)&(data[c]<=30)),Range]=5\n",
        "    data.loc[((data[c]>30)&(data[c]<=50)),Range]=6\n",
        "    data.loc[((data[c]>50)&(data[c]<=100)),Range]=7\n",
        "    data.loc[((data[c]>100)),Range]=8"
      ],
      "metadata": {
        "execution": {
          "iopub.status.busy": "2022-09-13T09:38:37.031605Z",
          "iopub.execute_input": "2022-09-13T09:38:37.032480Z",
          "iopub.status.idle": "2022-09-13T09:38:37.058557Z",
          "shell.execute_reply.started": "2022-09-13T09:38:37.032421Z",
          "shell.execute_reply": "2022-09-13T09:38:37.057334Z"
        },
        "trusted": true,
        "id": "gRy5b3dQQBCy"
      },
      "execution_count": 83,
      "outputs": []
    },
    {
      "cell_type": "code",
      "source": [
        "data.drop(['BALANCE', 'BALANCE_FREQUENCY', 'PURCHASES',\n",
        "       'ONEOFF_PURCHASES', 'INSTALLMENTS_PURCHASES', 'CASH_ADVANCE',\n",
        "       'PURCHASES_FREQUENCY',  'ONEOFF_PURCHASES_FREQUENCY',\n",
        "       'PURCHASES_INSTALLMENTS_FREQUENCY', 'CASH_ADVANCE_FREQUENCY',\n",
        "       'CASH_ADVANCE_TRX', 'PURCHASES_TRX', 'CREDIT_LIMIT', 'PAYMENTS',\n",
        "       'MINIMUM_PAYMENTS', 'PRC_FULL_PAYMENT' ], axis=1, inplace=True)\n",
        "\n",
        "X = np.asarray(data)"
      ],
      "metadata": {
        "execution": {
          "iopub.status.busy": "2022-09-13T09:38:37.061671Z",
          "iopub.execute_input": "2022-09-13T09:38:37.062479Z",
          "iopub.status.idle": "2022-09-13T09:38:37.071707Z",
          "shell.execute_reply.started": "2022-09-13T09:38:37.062418Z",
          "shell.execute_reply": "2022-09-13T09:38:37.070659Z"
        },
        "trusted": true,
        "id": "Oz5ljtq4QBCy"
      },
      "execution_count": 84,
      "outputs": []
    },
    {
      "cell_type": "code",
      "source": [
        "data.head()"
      ],
      "metadata": {
        "execution": {
          "iopub.status.busy": "2022-09-13T09:38:37.073210Z",
          "iopub.execute_input": "2022-09-13T09:38:37.074227Z",
          "iopub.status.idle": "2022-09-13T09:38:37.099186Z",
          "shell.execute_reply.started": "2022-09-13T09:38:37.074190Z",
          "shell.execute_reply": "2022-09-13T09:38:37.097850Z"
        },
        "trusted": true,
        "colab": {
          "base_uri": "https://localhost:8080/",
          "height": 268
        },
        "id": "nDxNONGqQBCy",
        "outputId": "1c801060-66f0-4a95-cbc0-dd27f8618760"
      },
      "execution_count": 85,
      "outputs": [
        {
          "output_type": "execute_result",
          "data": {
            "text/plain": [
              "   TENURE  BALANCE_RANGE  PURCHASES_RANGE  ONEOFF_PURCHASES_RANGE  \\\n",
              "0      12              1                1                       0   \n",
              "1      12              4                0                       0   \n",
              "2      12              3                2                       2   \n",
              "3      12              3                3                       3   \n",
              "4      12              2                1                       1   \n",
              "\n",
              "   INSTALLMENTS_PURCHASES_RANGE  CASH_ADVANCE_RANGE  CREDIT_LIMIT_RANGE  \\\n",
              "0                             1                   0                   2   \n",
              "1                             0                   5                   5   \n",
              "2                             0                   0                   5   \n",
              "3                             0                   1                   5   \n",
              "4                             0                   0                   3   \n",
              "\n",
              "   PAYMENTS_RANGE  MINIMUM_PAYMENTS_RANGE  BALANCE_FREQUENCY_RANGE  \\\n",
              "0               1                       1                        9   \n",
              "1               4                       3                       10   \n",
              "2               2                       2                       10   \n",
              "3               0                       2                        7   \n",
              "4               2                       1                       10   \n",
              "\n",
              "   PURCHASES_FREQUENCY_RANGE  ONEOFF_PURCHASES_FREQUENCY_RANGE  \\\n",
              "0                          2                                 0   \n",
              "1                          0                                 0   \n",
              "2                         10                                10   \n",
              "3                          1                                 1   \n",
              "4                          1                                 1   \n",
              "\n",
              "   PURCHASES_INSTALLMENTS_FREQUENCY_RANGE  CASH_ADVANCE_FREQUENCY_RANGE  \\\n",
              "0                                       1                             0   \n",
              "1                                       0                             3   \n",
              "2                                       0                             0   \n",
              "3                                       0                             1   \n",
              "4                                       0                             0   \n",
              "\n",
              "   PRC_FULL_PAYMENT_RANGE  PURCHASES_TRX_RANGE  CASH_ADVANCE_TRX_RANGE  \n",
              "0                       0                    1                       0  \n",
              "1                       3                    0                       1  \n",
              "2                       0                    3                       0  \n",
              "3                       0                    1                       1  \n",
              "4                       0                    1                       0  "
            ],
            "text/html": [
              "\n",
              "  <div id=\"df-2500301b-184d-46df-983a-87e783019cfe\">\n",
              "    <div class=\"colab-df-container\">\n",
              "      <div>\n",
              "<style scoped>\n",
              "    .dataframe tbody tr th:only-of-type {\n",
              "        vertical-align: middle;\n",
              "    }\n",
              "\n",
              "    .dataframe tbody tr th {\n",
              "        vertical-align: top;\n",
              "    }\n",
              "\n",
              "    .dataframe thead th {\n",
              "        text-align: right;\n",
              "    }\n",
              "</style>\n",
              "<table border=\"1\" class=\"dataframe\">\n",
              "  <thead>\n",
              "    <tr style=\"text-align: right;\">\n",
              "      <th></th>\n",
              "      <th>TENURE</th>\n",
              "      <th>BALANCE_RANGE</th>\n",
              "      <th>PURCHASES_RANGE</th>\n",
              "      <th>ONEOFF_PURCHASES_RANGE</th>\n",
              "      <th>INSTALLMENTS_PURCHASES_RANGE</th>\n",
              "      <th>CASH_ADVANCE_RANGE</th>\n",
              "      <th>CREDIT_LIMIT_RANGE</th>\n",
              "      <th>PAYMENTS_RANGE</th>\n",
              "      <th>MINIMUM_PAYMENTS_RANGE</th>\n",
              "      <th>BALANCE_FREQUENCY_RANGE</th>\n",
              "      <th>PURCHASES_FREQUENCY_RANGE</th>\n",
              "      <th>ONEOFF_PURCHASES_FREQUENCY_RANGE</th>\n",
              "      <th>PURCHASES_INSTALLMENTS_FREQUENCY_RANGE</th>\n",
              "      <th>CASH_ADVANCE_FREQUENCY_RANGE</th>\n",
              "      <th>PRC_FULL_PAYMENT_RANGE</th>\n",
              "      <th>PURCHASES_TRX_RANGE</th>\n",
              "      <th>CASH_ADVANCE_TRX_RANGE</th>\n",
              "    </tr>\n",
              "  </thead>\n",
              "  <tbody>\n",
              "    <tr>\n",
              "      <th>0</th>\n",
              "      <td>12</td>\n",
              "      <td>1</td>\n",
              "      <td>1</td>\n",
              "      <td>0</td>\n",
              "      <td>1</td>\n",
              "      <td>0</td>\n",
              "      <td>2</td>\n",
              "      <td>1</td>\n",
              "      <td>1</td>\n",
              "      <td>9</td>\n",
              "      <td>2</td>\n",
              "      <td>0</td>\n",
              "      <td>1</td>\n",
              "      <td>0</td>\n",
              "      <td>0</td>\n",
              "      <td>1</td>\n",
              "      <td>0</td>\n",
              "    </tr>\n",
              "    <tr>\n",
              "      <th>1</th>\n",
              "      <td>12</td>\n",
              "      <td>4</td>\n",
              "      <td>0</td>\n",
              "      <td>0</td>\n",
              "      <td>0</td>\n",
              "      <td>5</td>\n",
              "      <td>5</td>\n",
              "      <td>4</td>\n",
              "      <td>3</td>\n",
              "      <td>10</td>\n",
              "      <td>0</td>\n",
              "      <td>0</td>\n",
              "      <td>0</td>\n",
              "      <td>3</td>\n",
              "      <td>3</td>\n",
              "      <td>0</td>\n",
              "      <td>1</td>\n",
              "    </tr>\n",
              "    <tr>\n",
              "      <th>2</th>\n",
              "      <td>12</td>\n",
              "      <td>3</td>\n",
              "      <td>2</td>\n",
              "      <td>2</td>\n",
              "      <td>0</td>\n",
              "      <td>0</td>\n",
              "      <td>5</td>\n",
              "      <td>2</td>\n",
              "      <td>2</td>\n",
              "      <td>10</td>\n",
              "      <td>10</td>\n",
              "      <td>10</td>\n",
              "      <td>0</td>\n",
              "      <td>0</td>\n",
              "      <td>0</td>\n",
              "      <td>3</td>\n",
              "      <td>0</td>\n",
              "    </tr>\n",
              "    <tr>\n",
              "      <th>3</th>\n",
              "      <td>12</td>\n",
              "      <td>3</td>\n",
              "      <td>3</td>\n",
              "      <td>3</td>\n",
              "      <td>0</td>\n",
              "      <td>1</td>\n",
              "      <td>5</td>\n",
              "      <td>0</td>\n",
              "      <td>2</td>\n",
              "      <td>7</td>\n",
              "      <td>1</td>\n",
              "      <td>1</td>\n",
              "      <td>0</td>\n",
              "      <td>1</td>\n",
              "      <td>0</td>\n",
              "      <td>1</td>\n",
              "      <td>1</td>\n",
              "    </tr>\n",
              "    <tr>\n",
              "      <th>4</th>\n",
              "      <td>12</td>\n",
              "      <td>2</td>\n",
              "      <td>1</td>\n",
              "      <td>1</td>\n",
              "      <td>0</td>\n",
              "      <td>0</td>\n",
              "      <td>3</td>\n",
              "      <td>2</td>\n",
              "      <td>1</td>\n",
              "      <td>10</td>\n",
              "      <td>1</td>\n",
              "      <td>1</td>\n",
              "      <td>0</td>\n",
              "      <td>0</td>\n",
              "      <td>0</td>\n",
              "      <td>1</td>\n",
              "      <td>0</td>\n",
              "    </tr>\n",
              "  </tbody>\n",
              "</table>\n",
              "</div>\n",
              "      <button class=\"colab-df-convert\" onclick=\"convertToInteractive('df-2500301b-184d-46df-983a-87e783019cfe')\"\n",
              "              title=\"Convert this dataframe to an interactive table.\"\n",
              "              style=\"display:none;\">\n",
              "        \n",
              "  <svg xmlns=\"http://www.w3.org/2000/svg\" height=\"24px\"viewBox=\"0 0 24 24\"\n",
              "       width=\"24px\">\n",
              "    <path d=\"M0 0h24v24H0V0z\" fill=\"none\"/>\n",
              "    <path d=\"M18.56 5.44l.94 2.06.94-2.06 2.06-.94-2.06-.94-.94-2.06-.94 2.06-2.06.94zm-11 1L8.5 8.5l.94-2.06 2.06-.94-2.06-.94L8.5 2.5l-.94 2.06-2.06.94zm10 10l.94 2.06.94-2.06 2.06-.94-2.06-.94-.94-2.06-.94 2.06-2.06.94z\"/><path d=\"M17.41 7.96l-1.37-1.37c-.4-.4-.92-.59-1.43-.59-.52 0-1.04.2-1.43.59L10.3 9.45l-7.72 7.72c-.78.78-.78 2.05 0 2.83L4 21.41c.39.39.9.59 1.41.59.51 0 1.02-.2 1.41-.59l7.78-7.78 2.81-2.81c.8-.78.8-2.07 0-2.86zM5.41 20L4 18.59l7.72-7.72 1.47 1.35L5.41 20z\"/>\n",
              "  </svg>\n",
              "      </button>\n",
              "      \n",
              "  <style>\n",
              "    .colab-df-container {\n",
              "      display:flex;\n",
              "      flex-wrap:wrap;\n",
              "      gap: 12px;\n",
              "    }\n",
              "\n",
              "    .colab-df-convert {\n",
              "      background-color: #E8F0FE;\n",
              "      border: none;\n",
              "      border-radius: 50%;\n",
              "      cursor: pointer;\n",
              "      display: none;\n",
              "      fill: #1967D2;\n",
              "      height: 32px;\n",
              "      padding: 0 0 0 0;\n",
              "      width: 32px;\n",
              "    }\n",
              "\n",
              "    .colab-df-convert:hover {\n",
              "      background-color: #E2EBFA;\n",
              "      box-shadow: 0px 1px 2px rgba(60, 64, 67, 0.3), 0px 1px 3px 1px rgba(60, 64, 67, 0.15);\n",
              "      fill: #174EA6;\n",
              "    }\n",
              "\n",
              "    [theme=dark] .colab-df-convert {\n",
              "      background-color: #3B4455;\n",
              "      fill: #D2E3FC;\n",
              "    }\n",
              "\n",
              "    [theme=dark] .colab-df-convert:hover {\n",
              "      background-color: #434B5C;\n",
              "      box-shadow: 0px 1px 3px 1px rgba(0, 0, 0, 0.15);\n",
              "      filter: drop-shadow(0px 1px 2px rgba(0, 0, 0, 0.3));\n",
              "      fill: #FFFFFF;\n",
              "    }\n",
              "  </style>\n",
              "\n",
              "      <script>\n",
              "        const buttonEl =\n",
              "          document.querySelector('#df-2500301b-184d-46df-983a-87e783019cfe button.colab-df-convert');\n",
              "        buttonEl.style.display =\n",
              "          google.colab.kernel.accessAllowed ? 'block' : 'none';\n",
              "\n",
              "        async function convertToInteractive(key) {\n",
              "          const element = document.querySelector('#df-2500301b-184d-46df-983a-87e783019cfe');\n",
              "          const dataTable =\n",
              "            await google.colab.kernel.invokeFunction('convertToInteractive',\n",
              "                                                     [key], {});\n",
              "          if (!dataTable) return;\n",
              "\n",
              "          const docLinkHtml = 'Like what you see? Visit the ' +\n",
              "            '<a target=\"_blank\" href=https://colab.research.google.com/notebooks/data_table.ipynb>data table notebook</a>'\n",
              "            + ' to learn more about interactive tables.';\n",
              "          element.innerHTML = '';\n",
              "          dataTable['output_type'] = 'display_data';\n",
              "          await google.colab.output.renderOutput(dataTable, element);\n",
              "          const docLink = document.createElement('div');\n",
              "          docLink.innerHTML = docLinkHtml;\n",
              "          element.appendChild(docLink);\n",
              "        }\n",
              "      </script>\n",
              "    </div>\n",
              "  </div>\n",
              "  "
            ]
          },
          "metadata": {},
          "execution_count": 85
        }
      ]
    },
    {
      "cell_type": "code",
      "source": [
        "X"
      ],
      "metadata": {
        "execution": {
          "iopub.status.busy": "2022-09-13T09:38:37.100522Z",
          "iopub.execute_input": "2022-09-13T09:38:37.101241Z",
          "iopub.status.idle": "2022-09-13T09:38:37.107799Z",
          "shell.execute_reply.started": "2022-09-13T09:38:37.101204Z",
          "shell.execute_reply": "2022-09-13T09:38:37.106956Z"
        },
        "trusted": true,
        "colab": {
          "base_uri": "https://localhost:8080/"
        },
        "id": "WOMiG0oZQBCz",
        "outputId": "ceaac8ef-b18d-42c2-ab76-8497a95e61b8"
      },
      "execution_count": 86,
      "outputs": [
        {
          "output_type": "execute_result",
          "data": {
            "text/plain": [
              "array([[12,  1,  1, ...,  0,  1,  0],\n",
              "       [12,  4,  0, ...,  3,  0,  1],\n",
              "       [12,  3,  2, ...,  0,  3,  0],\n",
              "       ...,\n",
              "       [ 6,  1,  1, ...,  3,  1,  0],\n",
              "       [ 6,  1,  0, ...,  3,  0,  1],\n",
              "       [ 6,  1,  3, ...,  0,  5,  1]])"
            ]
          },
          "metadata": {},
          "execution_count": 86
        }
      ]
    },
    {
      "cell_type": "markdown",
      "source": [
        "### Feature scaling"
      ],
      "metadata": {
        "id": "sJbMI2ixBIgh"
      }
    },
    {
      "cell_type": "code",
      "source": [
        "# StandardScaler \n",
        "from sklearn.preprocessing import StandardScaler\n",
        "sc = StandardScaler()\n",
        "X = sc.fit_transform(X)\n",
        "X.shape"
      ],
      "metadata": {
        "id": "CMY36XojARna",
        "execution": {
          "iopub.status.busy": "2022-09-13T09:38:37.113789Z",
          "iopub.execute_input": "2022-09-13T09:38:37.114761Z",
          "iopub.status.idle": "2022-09-13T09:38:37.125307Z",
          "shell.execute_reply.started": "2022-09-13T09:38:37.114723Z",
          "shell.execute_reply": "2022-09-13T09:38:37.123960Z"
        },
        "trusted": true,
        "colab": {
          "base_uri": "https://localhost:8080/"
        },
        "outputId": "b0203d9e-b1bb-4991-f80f-b5e514ddcd49"
      },
      "execution_count": 87,
      "outputs": [
        {
          "output_type": "execute_result",
          "data": {
            "text/plain": [
              "(8950, 17)"
            ]
          },
          "metadata": {},
          "execution_count": 87
        }
      ]
    },
    {
      "cell_type": "code",
      "source": [
        "X"
      ],
      "metadata": {
        "execution": {
          "iopub.status.busy": "2022-09-13T09:38:37.126635Z",
          "iopub.execute_input": "2022-09-13T09:38:37.127702Z",
          "iopub.status.idle": "2022-09-13T09:38:37.135207Z",
          "shell.execute_reply.started": "2022-09-13T09:38:37.127663Z",
          "shell.execute_reply": "2022-09-13T09:38:37.134123Z"
        },
        "trusted": true,
        "colab": {
          "base_uri": "https://localhost:8080/"
        },
        "id": "rYPEKJlRQBCz",
        "outputId": "4befa341-1116-41ef-a3a6-8a8a7cc9411e"
      },
      "execution_count": 88,
      "outputs": [
        {
          "output_type": "execute_result",
          "data": {
            "text/plain": [
              "array([[ 0.36067954, -0.97851102, -0.43862278, ..., -0.54119881,\n",
              "        -0.64681226, -0.69462206],\n",
              "       [ 0.36067954,  1.29798329, -1.18015543, ...,  0.45299851,\n",
              "        -1.09971241,  0.12597818],\n",
              "       [ 0.36067954,  0.53915185,  0.30290987, ..., -0.54119881,\n",
              "         0.25898804, -0.69462206],\n",
              "       ...,\n",
              "       [-4.12276757, -0.97851102, -0.43862278, ...,  0.45299851,\n",
              "        -0.64681226, -0.69462206],\n",
              "       [-4.12276757, -0.97851102, -1.18015543, ...,  0.45299851,\n",
              "        -1.09971241,  0.12597818],\n",
              "       [-4.12276757, -0.97851102,  1.04444252, ..., -0.54119881,\n",
              "         1.16478834,  0.12597818]])"
            ]
          },
          "metadata": {},
          "execution_count": 88
        }
      ]
    },
    {
      "cell_type": "markdown",
      "source": [
        "## Part 2: Elbow method (finding the optimal number of clusters)\n"
      ],
      "metadata": {
        "id": "UoyStcfzCg2a"
      }
    },
    {
      "cell_type": "code",
      "source": [
        "from sklearn.cluster import KMeans"
      ],
      "metadata": {
        "id": "6h9dgBxEARtT",
        "execution": {
          "iopub.status.busy": "2022-09-13T09:38:37.136443Z",
          "iopub.execute_input": "2022-09-13T09:38:37.137189Z",
          "iopub.status.idle": "2022-09-13T09:38:37.143520Z",
          "shell.execute_reply.started": "2022-09-13T09:38:37.137154Z",
          "shell.execute_reply": "2022-09-13T09:38:37.142517Z"
        },
        "trusted": true
      },
      "execution_count": 89,
      "outputs": []
    },
    {
      "cell_type": "code",
      "source": [
        "n_clusters = 30;\n",
        "wcss = []\n",
        "for i in range(1, n_clusters): \n",
        "  kmeans = KMeans(i)\n",
        "  kmeans.fit(X)\n",
        "  wcss.append(kmeans.inertia_)\n",
        "plt.plot(wcss, 'bx-')\n",
        "plt.title('The Elbo method')\n",
        "plt.xlabel('Number of clusters') \n",
        "plt.ylabel('WCSS')\n",
        "plt.show()\n"
      ],
      "metadata": {
        "id": "0Q1GX5ZeARwS",
        "execution": {
          "iopub.status.busy": "2022-09-13T09:38:37.144925Z",
          "iopub.execute_input": "2022-09-13T09:38:37.145624Z",
          "iopub.status.idle": "2022-09-13T09:39:44.205823Z",
          "shell.execute_reply.started": "2022-09-13T09:38:37.145578Z",
          "shell.execute_reply": "2022-09-13T09:39:44.204274Z"
        },
        "trusted": true
      },
      "execution_count": null,
      "outputs": []
    },
    {
      "cell_type": "markdown",
      "source": [
        "## Part 3: Building the model\n",
        "Choosing 6 no of clusters¶"
      ],
      "metadata": {
        "id": "NSN2jnNJEUm1"
      }
    },
    {
      "cell_type": "code",
      "source": [
        "from sklearn.cluster import KMeans"
      ],
      "metadata": {
        "id": "SYaKUoAwARzd",
        "execution": {
          "iopub.status.busy": "2022-09-13T09:39:44.207547Z",
          "iopub.execute_input": "2022-09-13T09:39:44.207949Z",
          "iopub.status.idle": "2022-09-13T09:39:44.213699Z",
          "shell.execute_reply.started": "2022-09-13T09:39:44.207911Z",
          "shell.execute_reply": "2022-09-13T09:39:44.212273Z"
        },
        "trusted": true
      },
      "execution_count": null,
      "outputs": []
    },
    {
      "cell_type": "code",
      "source": [
        "kmeans = KMeans(6)"
      ],
      "metadata": {
        "id": "psN1Jn-9AR2x",
        "execution": {
          "iopub.status.busy": "2022-09-13T09:39:44.215666Z",
          "iopub.execute_input": "2022-09-13T09:39:44.216439Z",
          "iopub.status.idle": "2022-09-13T09:39:44.229457Z",
          "shell.execute_reply.started": "2022-09-13T09:39:44.216386Z",
          "shell.execute_reply": "2022-09-13T09:39:44.228021Z"
        },
        "trusted": true
      },
      "execution_count": null,
      "outputs": []
    },
    {
      "cell_type": "code",
      "source": [
        "# dependent variable\n",
        "\n",
        "kmeans.fit(X)\n",
        "labels = kmeans.labels_\n"
      ],
      "metadata": {
        "id": "BjpGQp5CAR6S",
        "execution": {
          "iopub.status.busy": "2022-09-13T09:39:44.231594Z",
          "iopub.execute_input": "2022-09-13T09:39:44.232182Z",
          "iopub.status.idle": "2022-09-13T09:39:45.901670Z",
          "shell.execute_reply.started": "2022-09-13T09:39:44.232133Z",
          "shell.execute_reply": "2022-09-13T09:39:45.900706Z"
        },
        "trusted": true
      },
      "execution_count": null,
      "outputs": []
    },
    {
      "cell_type": "code",
      "source": [
        "labels"
      ],
      "metadata": {
        "execution": {
          "iopub.status.busy": "2022-09-13T09:39:45.902926Z",
          "iopub.execute_input": "2022-09-13T09:39:45.903976Z",
          "iopub.status.idle": "2022-09-13T09:39:45.913366Z",
          "shell.execute_reply.started": "2022-09-13T09:39:45.903931Z",
          "shell.execute_reply": "2022-09-13T09:39:45.911211Z"
        },
        "trusted": true,
        "id": "UB1663OMQBC1"
      },
      "execution_count": null,
      "outputs": []
    },
    {
      "cell_type": "code",
      "source": [
        "clusters=pd.concat([data, pd.DataFrame({'cluster':labels})], axis=1)\n",
        "clusters.head()"
      ],
      "metadata": {
        "execution": {
          "iopub.status.busy": "2022-09-13T09:39:45.914757Z",
          "iopub.execute_input": "2022-09-13T09:39:45.915138Z",
          "iopub.status.idle": "2022-09-13T09:39:45.939592Z",
          "shell.execute_reply.started": "2022-09-13T09:39:45.915106Z",
          "shell.execute_reply": "2022-09-13T09:39:45.938139Z"
        },
        "trusted": true,
        "id": "wKZ_TYh9QBC1"
      },
      "execution_count": null,
      "outputs": []
    },
    {
      "cell_type": "code",
      "source": [
        "kmeans"
      ],
      "metadata": {
        "execution": {
          "iopub.status.busy": "2022-09-13T09:39:45.941336Z",
          "iopub.execute_input": "2022-09-13T09:39:45.941732Z",
          "iopub.status.idle": "2022-09-13T09:39:45.954510Z",
          "shell.execute_reply.started": "2022-09-13T09:39:45.941699Z",
          "shell.execute_reply": "2022-09-13T09:39:45.953160Z"
        },
        "trusted": true,
        "id": "a1mxA745QBC1"
      },
      "execution_count": null,
      "outputs": []
    },
    {
      "cell_type": "code",
      "source": [
        "y_kmeans"
      ],
      "metadata": {
        "id": "wPR7maGQE-Qj",
        "execution": {
          "iopub.status.busy": "2022-09-13T09:39:45.956127Z",
          "iopub.execute_input": "2022-09-13T09:39:45.956466Z",
          "iopub.status.idle": "2022-09-13T09:39:45.966833Z",
          "shell.execute_reply.started": "2022-09-13T09:39:45.956437Z",
          "shell.execute_reply": "2022-09-13T09:39:45.965617Z"
        },
        "trusted": true
      },
      "execution_count": null,
      "outputs": []
    },
    {
      "cell_type": "markdown",
      "source": [
        "## Interpretation of Clusters "
      ],
      "metadata": {
        "id": "BQ05-veiQBC1"
      }
    },
    {
      "cell_type": "code",
      "source": [
        "for c in clusters:\n",
        "    grid= sns.FacetGrid(clusters, col='cluster')\n",
        "    grid.map(plt.hist, c)   "
      ],
      "metadata": {
        "execution": {
          "iopub.status.busy": "2022-09-13T09:39:45.968388Z",
          "iopub.execute_input": "2022-09-13T09:39:45.968954Z",
          "iopub.status.idle": "2022-09-13T09:40:07.415535Z",
          "shell.execute_reply.started": "2022-09-13T09:39:45.968919Z",
          "shell.execute_reply": "2022-09-13T09:40:07.414241Z"
        },
        "trusted": true,
        "id": "Vory6PhoQBC1"
      },
      "execution_count": null,
      "outputs": []
    },
    {
      "cell_type": "markdown",
      "source": [
        "### Part 3.5: Visualization of Clusters\n",
        "Using PCA to transform data to 2 dimensions for visualization"
      ],
      "metadata": {
        "id": "LXrRJcHKQBC2"
      }
    },
    {
      "cell_type": "code",
      "source": [
        "from sklearn.decomposition import PCA\n",
        "from sklearn.metrics.pairwise import cosine_similarity\n",
        "dist = 1 - cosine_similarity(X)\n",
        "\n",
        "pca = PCA(2)\n",
        "pca.fit(dist)\n",
        "X_PCA = pca.transform(dist)\n",
        "X_PCA.shape"
      ],
      "metadata": {
        "execution": {
          "iopub.status.busy": "2022-09-13T09:40:07.418936Z",
          "iopub.execute_input": "2022-09-13T09:40:07.419314Z",
          "iopub.status.idle": "2022-09-13T09:40:14.177697Z",
          "shell.execute_reply.started": "2022-09-13T09:40:07.419280Z",
          "shell.execute_reply": "2022-09-13T09:40:14.176491Z"
        },
        "trusted": true,
        "id": "cnBIeRmSQBC2"
      },
      "execution_count": null,
      "outputs": []
    },
    {
      "cell_type": "code",
      "source": [
        "X_PCA"
      ],
      "metadata": {
        "execution": {
          "iopub.status.busy": "2022-09-13T09:40:14.179923Z",
          "iopub.execute_input": "2022-09-13T09:40:14.180755Z",
          "iopub.status.idle": "2022-09-13T09:40:14.190635Z",
          "shell.execute_reply.started": "2022-09-13T09:40:14.180710Z",
          "shell.execute_reply": "2022-09-13T09:40:14.188979Z"
        },
        "trusted": true,
        "id": "BPU8jWleQBC2"
      },
      "execution_count": null,
      "outputs": []
    },
    {
      "cell_type": "code",
      "source": [
        "x, y = X_PCA[:, 0], X_PCA[:, 1]\n",
        "\n",
        "colors = {0: 'red',\n",
        "          1: 'blue',\n",
        "          2: 'green', \n",
        "          3: 'yellow', \n",
        "          4: 'orange',  \n",
        "          5:'purple'}\n",
        "\n",
        "names = {0: 'who make all type of purchases', \n",
        "         1: 'more people with due payments', \n",
        "         2: 'who purchases mostly in installments', \n",
        "         3: 'who take more cash in advance', \n",
        "         4: 'who make expensive purchases',\n",
        "         5:'who don\\'t spend much money'}\n",
        "  \n",
        "df = pd.DataFrame({'x': x, 'y':y, 'label':labels}) \n",
        "groups = df.groupby('label')\n",
        "\n",
        "fig, ax = plt.subplots(figsize=(20, 13)) \n",
        "\n",
        "for name, group in groups:\n",
        "    ax.plot(group.x, group.y, marker='o', linestyle='', ms=5,\n",
        "            color=colors[name],label=names[name], mec='none')\n",
        "    ax.set_aspect('auto')\n",
        "    ax.tick_params(axis='x',which='both',bottom='off',top='off',labelbottom='off')\n",
        "    ax.tick_params(axis= 'y',which='both',left='off',top='off',labelleft='off')\n",
        "    \n",
        "ax.legend()\n",
        "ax.set_title(\"Customers Segmentation based on their Credit Card usage bhaviour.\")\n",
        "plt.show()"
      ],
      "metadata": {
        "execution": {
          "iopub.status.busy": "2022-09-13T09:40:14.193168Z",
          "iopub.execute_input": "2022-09-13T09:40:14.194468Z",
          "iopub.status.idle": "2022-09-13T09:40:14.645419Z",
          "shell.execute_reply.started": "2022-09-13T09:40:14.194418Z",
          "shell.execute_reply": "2022-09-13T09:40:14.644305Z"
        },
        "trusted": true,
        "id": "-kWYyjrqQBC2"
      },
      "execution_count": null,
      "outputs": []
    },
    {
      "cell_type": "markdown",
      "source": [
        "## Part 4: Getting the output"
      ],
      "metadata": {
        "id": "QygG4CY8FWZK"
      }
    },
    {
      "cell_type": "code",
      "source": [
        "y_kmeans.shape"
      ],
      "metadata": {
        "id": "ItMz0NZ7E-YA",
        "execution": {
          "iopub.status.busy": "2022-09-13T09:40:14.647234Z",
          "iopub.execute_input": "2022-09-13T09:40:14.647963Z",
          "iopub.status.idle": "2022-09-13T09:40:14.655488Z",
          "shell.execute_reply.started": "2022-09-13T09:40:14.647918Z",
          "shell.execute_reply": "2022-09-13T09:40:14.654044Z"
        },
        "trusted": true
      },
      "execution_count": null,
      "outputs": []
    },
    {
      "cell_type": "code",
      "source": [
        "y_kmeans = y_kmeans.reshape(len(y_kmeans), 1)"
      ],
      "metadata": {
        "id": "Qajya8_hAR9n",
        "execution": {
          "iopub.status.busy": "2022-09-13T09:40:14.657366Z",
          "iopub.execute_input": "2022-09-13T09:40:14.658151Z",
          "iopub.status.idle": "2022-09-13T09:40:14.667568Z",
          "shell.execute_reply.started": "2022-09-13T09:40:14.658101Z",
          "shell.execute_reply": "2022-09-13T09:40:14.666338Z"
        },
        "trusted": true
      },
      "execution_count": null,
      "outputs": []
    },
    {
      "cell_type": "code",
      "source": [
        "y_kmeans.shape"
      ],
      "metadata": {
        "id": "3UJpPKZpFmTI",
        "execution": {
          "iopub.status.busy": "2022-09-13T09:40:14.669237Z",
          "iopub.execute_input": "2022-09-13T09:40:14.670028Z",
          "iopub.status.idle": "2022-09-13T09:40:14.682489Z",
          "shell.execute_reply.started": "2022-09-13T09:40:14.669973Z",
          "shell.execute_reply": "2022-09-13T09:40:14.681126Z"
        },
        "trusted": true
      },
      "execution_count": null,
      "outputs": []
    },
    {
      "cell_type": "code",
      "source": [
        "b = np.concatenate((y_kmeans, dr), axis=1)"
      ],
      "metadata": {
        "id": "axoA5tRhFnFK",
        "execution": {
          "iopub.status.busy": "2022-09-13T09:40:14.684500Z",
          "iopub.execute_input": "2022-09-13T09:40:14.685405Z",
          "iopub.status.idle": "2022-09-13T09:40:14.692601Z",
          "shell.execute_reply.started": "2022-09-13T09:40:14.685348Z",
          "shell.execute_reply": "2022-09-13T09:40:14.690921Z"
        },
        "trusted": true
      },
      "execution_count": null,
      "outputs": []
    },
    {
      "cell_type": "code",
      "source": [
        "dr.columns"
      ],
      "metadata": {
        "id": "V2QEi1YCFnJH",
        "execution": {
          "iopub.status.busy": "2022-09-13T09:40:14.693849Z",
          "iopub.execute_input": "2022-09-13T09:40:14.695079Z",
          "iopub.status.idle": "2022-09-13T09:40:14.713338Z",
          "shell.execute_reply.started": "2022-09-13T09:40:14.695030Z",
          "shell.execute_reply": "2022-09-13T09:40:14.712054Z"
        },
        "trusted": true
      },
      "execution_count": null,
      "outputs": []
    },
    {
      "cell_type": "code",
      "source": [
        "dr_final = pd.DataFrame(data=b, columns = ['Cluster_Number', 'BALANCE', 'BALANCE_FREQUENCY', 'PURCHASES', 'ONEOFF_PURCHASES',\n",
        "       'INSTALLMENTS_PURCHASES', 'CASH_ADVANCE', 'PURCHASES_FREQUENCY',\n",
        "       'ONEOFF_PURCHASES_FREQUENCY', 'PURCHASES_INSTALLMENTS_FREQUENCY',\n",
        "       'CASH_ADVANCE_FREQUENCY', 'CASH_ADVANCE_TRX', 'PURCHASES_TRX',\n",
        "       'CREDIT_LIMIT', 'PAYMENTS', 'MINIMUM_PAYMENTS', 'PRC_FULL_PAYMENT',\n",
        "       'TENURE'])"
      ],
      "metadata": {
        "id": "3N8aOb-RFmW5",
        "execution": {
          "iopub.status.busy": "2022-09-13T09:40:14.716276Z",
          "iopub.execute_input": "2022-09-13T09:40:14.717573Z",
          "iopub.status.idle": "2022-09-13T09:40:14.723607Z",
          "shell.execute_reply.started": "2022-09-13T09:40:14.717510Z",
          "shell.execute_reply": "2022-09-13T09:40:14.722638Z"
        },
        "trusted": true
      },
      "execution_count": null,
      "outputs": []
    },
    {
      "cell_type": "code",
      "source": [
        "dr_final.head()"
      ],
      "metadata": {
        "id": "b_NgNhi2Fma4",
        "execution": {
          "iopub.status.busy": "2022-09-13T09:40:14.725269Z",
          "iopub.execute_input": "2022-09-13T09:40:14.726594Z",
          "iopub.status.idle": "2022-09-13T09:40:14.756265Z",
          "shell.execute_reply.started": "2022-09-13T09:40:14.726556Z",
          "shell.execute_reply": "2022-09-13T09:40:14.755454Z"
        },
        "trusted": true
      },
      "execution_count": null,
      "outputs": []
    },
    {
      "cell_type": "code",
      "source": [
        "dr_final.to_csv('Segmented_customers')"
      ],
      "metadata": {
        "id": "sppAwN5HG7dm",
        "execution": {
          "iopub.status.busy": "2022-09-13T09:40:14.757690Z",
          "iopub.execute_input": "2022-09-13T09:40:14.758305Z",
          "iopub.status.idle": "2022-09-13T09:40:14.914338Z",
          "shell.execute_reply.started": "2022-09-13T09:40:14.758270Z",
          "shell.execute_reply": "2022-09-13T09:40:14.913022Z"
        },
        "trusted": true
      },
      "execution_count": null,
      "outputs": []
    }
  ]
}